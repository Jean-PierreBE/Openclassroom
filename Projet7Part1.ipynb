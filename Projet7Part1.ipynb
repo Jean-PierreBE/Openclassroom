{
 "cells": [
  {
   "cell_type": "markdown",
   "metadata": {
    "toc": true
   },
   "source": [
    "<h1>Table of Contents<span class=\"tocSkip\"></span></h1>\n",
    "<div class=\"toc\"><ul class=\"toc-item\"><li><span><a href=\"#Projet-7:-Implémentez-un-modèle-de-scoring-(Part1)\" data-toc-modified-id=\"Projet-7:-Implémentez-un-modèle-de-scoring-(Part1)-1\"><span class=\"toc-item-num\">1&nbsp;&nbsp;</span>Projet 7: Implémentez un modèle de scoring (Part1)</a></span><ul class=\"toc-item\"><li><ul class=\"toc-item\"><li><span><a href=\"#import-libraries\" data-toc-modified-id=\"import-libraries-1.0.1\"><span class=\"toc-item-num\">1.0.1&nbsp;&nbsp;</span>import libraries</a></span></li><li><span><a href=\"#constantes\" data-toc-modified-id=\"constantes-1.0.2\"><span class=\"toc-item-num\">1.0.2&nbsp;&nbsp;</span>constantes</a></span></li><li><span><a href=\"#Fonctions\" data-toc-modified-id=\"Fonctions-1.0.3\"><span class=\"toc-item-num\">1.0.3&nbsp;&nbsp;</span>Fonctions</a></span></li></ul></li><li><span><a href=\"#Réception-des-données\" data-toc-modified-id=\"Réception-des-données-1.1\"><span class=\"toc-item-num\">1.1&nbsp;&nbsp;</span>Réception des données</a></span><ul class=\"toc-item\"><li><span><a href=\"#Lecture-des-fichiers-et-affichage-caractéristiques\" data-toc-modified-id=\"Lecture-des-fichiers-et-affichage-caractéristiques-1.1.1\"><span class=\"toc-item-num\">1.1.1&nbsp;&nbsp;</span>Lecture des fichiers et affichage caractéristiques</a></span></li><li><span><a href=\"#Réduction-taille-des-dataframes\" data-toc-modified-id=\"Réduction-taille-des-dataframes-1.1.2\"><span class=\"toc-item-num\">1.1.2&nbsp;&nbsp;</span>Réduction taille des dataframes</a></span></li></ul></li><li><span><a href=\"#Analyse-exploratoire\" data-toc-modified-id=\"Analyse-exploratoire-1.2\"><span class=\"toc-item-num\">1.2&nbsp;&nbsp;</span>Analyse exploratoire</a></span><ul class=\"toc-item\"><li><span><a href=\"#lancement-EDA-avec-sweetviz\" data-toc-modified-id=\"lancement-EDA-avec-sweetviz-1.2.1\"><span class=\"toc-item-num\">1.2.1&nbsp;&nbsp;</span>lancement EDA avec sweetviz</a></span></li><li><span><a href=\"#Correction-anomalies-et-suppression-outliers\" data-toc-modified-id=\"Correction-anomalies-et-suppression-outliers-1.2.2\"><span class=\"toc-item-num\">1.2.2&nbsp;&nbsp;</span>Correction anomalies et suppression outliers</a></span></li><li><span><a href=\"#lancement-EDA-données-corrigées-avec-sweetviz\" data-toc-modified-id=\"lancement-EDA-données-corrigées-avec-sweetviz-1.2.3\"><span class=\"toc-item-num\">1.2.3&nbsp;&nbsp;</span>lancement EDA données corrigées avec sweetviz</a></span></li></ul></li><li><span><a href=\"#création-des-features\" data-toc-modified-id=\"création-des-features-1.3\"><span class=\"toc-item-num\">1.3&nbsp;&nbsp;</span>création des features</a></span><ul class=\"toc-item\"><li><span><a href=\"#création-dataframe-clé-client-+-bureau-+-fusion-bureau-balance\" data-toc-modified-id=\"création-dataframe-clé-client-+-bureau-+-fusion-bureau-balance-1.3.1\"><span class=\"toc-item-num\">1.3.1&nbsp;&nbsp;</span>création dataframe clé client + bureau + fusion bureau balance</a></span></li><li><span><a href=\"#Transformation-valables-catégorielles-dataframe-maîtres\" data-toc-modified-id=\"Transformation-valables-catégorielles-dataframe-maîtres-1.3.2\"><span class=\"toc-item-num\">1.3.2&nbsp;&nbsp;</span>Transformation valables catégorielles dataframe maîtres</a></span></li><li><span><a href=\"#Détermination-nouvelles-features-dataframes-enfants\" data-toc-modified-id=\"Détermination-nouvelles-features-dataframes-enfants-1.3.3\"><span class=\"toc-item-num\">1.3.3&nbsp;&nbsp;</span>Détermination nouvelles features dataframes enfants</a></span><ul class=\"toc-item\"><li><span><a href=\"#table-bureau\" data-toc-modified-id=\"table-bureau-1.3.3.1\"><span class=\"toc-item-num\">1.3.3.1&nbsp;&nbsp;</span>table bureau</a></span></li><li><span><a href=\"#table-previous-application\" data-toc-modified-id=\"table-previous-application-1.3.3.2\"><span class=\"toc-item-num\">1.3.3.2&nbsp;&nbsp;</span>table previous application</a></span></li><li><span><a href=\"#table-bureau-balance\" data-toc-modified-id=\"table-bureau-balance-1.3.3.3\"><span class=\"toc-item-num\">1.3.3.3&nbsp;&nbsp;</span>table bureau balance</a></span></li><li><span><a href=\"#table-POS_CASH_Balance\" data-toc-modified-id=\"table-POS_CASH_Balance-1.3.3.4\"><span class=\"toc-item-num\">1.3.3.4&nbsp;&nbsp;</span>table POS_CASH_Balance</a></span></li><li><span><a href=\"#table-credit_card_Balance\" data-toc-modified-id=\"table-credit_card_Balance-1.3.3.5\"><span class=\"toc-item-num\">1.3.3.5&nbsp;&nbsp;</span>table credit_card_Balance</a></span></li><li><span><a href=\"#table-installments_payments\" data-toc-modified-id=\"table-installments_payments-1.3.3.6\"><span class=\"toc-item-num\">1.3.3.6&nbsp;&nbsp;</span>table installments_payments</a></span></li></ul></li><li><span><a href=\"#Alignement-données-du-training-et-test\" data-toc-modified-id=\"Alignement-données-du-training-et-test-1.3.4\"><span class=\"toc-item-num\">1.3.4&nbsp;&nbsp;</span>Alignement données du training et test</a></span></li></ul></li><li><span><a href=\"#Sélection-des-features\" data-toc-modified-id=\"Sélection-des-features-1.4\"><span class=\"toc-item-num\">1.4&nbsp;&nbsp;</span>Sélection des features</a></span><ul class=\"toc-item\"><li><span><a href=\"#suppression-des-clés\" data-toc-modified-id=\"suppression-des-clés-1.4.1\"><span class=\"toc-item-num\">1.4.1&nbsp;&nbsp;</span>suppression des clés</a></span></li><li><span><a href=\"#suppression-des-variables-avec-fortes-colinéarités\" data-toc-modified-id=\"suppression-des-variables-avec-fortes-colinéarités-1.4.2\"><span class=\"toc-item-num\">1.4.2&nbsp;&nbsp;</span>suppression des variables avec fortes colinéarités</a></span></li><li><span><a href=\"#Suppression-des-features-avec-un-fort-pourcentage-de-valeurs-manquantes\" data-toc-modified-id=\"Suppression-des-features-avec-un-fort-pourcentage-de-valeurs-manquantes-1.4.3\"><span class=\"toc-item-num\">1.4.3&nbsp;&nbsp;</span>Suppression des features avec un fort pourcentage de valeurs manquantes</a></span></li><li><span><a href=\"#Calcul-de-l'importance-des-features-(méthode-kbest)\" data-toc-modified-id=\"Calcul-de-l'importance-des-features-(méthode-kbest)-1.4.4\"><span class=\"toc-item-num\">1.4.4&nbsp;&nbsp;</span>Calcul de l'importance des features (méthode kbest)</a></span></li></ul></li></ul></li></ul></div>"
   ]
  },
  {
   "cell_type": "markdown",
   "metadata": {},
   "source": [
    "# Projet 7: Implémentez un modèle de scoring (Part1)"
   ]
  },
  {
   "cell_type": "markdown",
   "metadata": {},
   "source": [
    "### import libraries"
   ]
  },
  {
   "cell_type": "code",
   "execution_count": 1,
   "metadata": {},
   "outputs": [],
   "source": [
    "# Download libraries\n",
    "from pyforest import *"
   ]
  },
  {
   "cell_type": "markdown",
   "metadata": {},
   "source": [
    "### constantes"
   ]
  },
  {
   "cell_type": "code",
   "execution_count": 2,
   "metadata": {},
   "outputs": [
    {
     "data": {
      "application/javascript": [
       "\n",
       "        if (window._pyforest_update_imports_cell) { window._pyforest_update_imports_cell('import pandas as pd'); }\n",
       "    "
      ],
      "text/plain": [
       "<IPython.core.display.Javascript object>"
      ]
     },
     "metadata": {},
     "output_type": "display_data"
    },
    {
     "data": {
      "application/javascript": [
       "\n",
       "        if (window._pyforest_update_imports_cell) { window._pyforest_update_imports_cell('import pandas as pd'); }\n",
       "    "
      ],
      "text/plain": [
       "<IPython.core.display.Javascript object>"
      ]
     },
     "metadata": {},
     "output_type": "display_data"
    },
    {
     "data": {
      "application/javascript": [
       "\n",
       "        if (window._pyforest_update_imports_cell) { window._pyforest_update_imports_cell('import pandas as pd'); }\n",
       "    "
      ],
      "text/plain": [
       "<IPython.core.display.Javascript object>"
      ]
     },
     "metadata": {},
     "output_type": "display_data"
    },
    {
     "data": {
      "application/javascript": [
       "\n",
       "        if (window._pyforest_update_imports_cell) { window._pyforest_update_imports_cell('import pandas as pd'); }\n",
       "    "
      ],
      "text/plain": [
       "<IPython.core.display.Javascript object>"
      ]
     },
     "metadata": {},
     "output_type": "display_data"
    },
    {
     "data": {
      "application/javascript": [
       "\n",
       "        if (window._pyforest_update_imports_cell) { window._pyforest_update_imports_cell('import pandas as pd'); }\n",
       "    "
      ],
      "text/plain": [
       "<IPython.core.display.Javascript object>"
      ]
     },
     "metadata": {},
     "output_type": "display_data"
    },
    {
     "data": {
      "application/javascript": [
       "\n",
       "        if (window._pyforest_update_imports_cell) { window._pyforest_update_imports_cell('import pandas as pd'); }\n",
       "    "
      ],
      "text/plain": [
       "<IPython.core.display.Javascript object>"
      ]
     },
     "metadata": {},
     "output_type": "display_data"
    },
    {
     "data": {
      "application/javascript": [
       "\n",
       "        if (window._pyforest_update_imports_cell) { window._pyforest_update_imports_cell('import pandas as pd'); }\n",
       "    "
      ],
      "text/plain": [
       "<IPython.core.display.Javascript object>"
      ]
     },
     "metadata": {},
     "output_type": "display_data"
    },
    {
     "data": {
      "application/javascript": [
       "\n",
       "        if (window._pyforest_update_imports_cell) { window._pyforest_update_imports_cell('import pandas as pd'); }\n",
       "    "
      ],
      "text/plain": [
       "<IPython.core.display.Javascript object>"
      ]
     },
     "metadata": {},
     "output_type": "display_data"
    }
   ],
   "source": [
    "# Definitions of constants\n",
    "DATA_FILE = [\"application_test.csv\",\n",
    "             \"application_train.csv\",\n",
    "             \"bureau.csv\",\n",
    "             \"bureau_balance.csv\",\n",
    "             \"credit_card_balance.csv\",\n",
    "             \"installments_payments.csv\",\n",
    "             \"POS_CASH_balance.csv\",\n",
    "             \"previous_application.csv\"]\n",
    "\n",
    "df_application_test_i = pd.DataFrame()\n",
    "df_application_train_i = pd.DataFrame()\n",
    "df_bureau_i = pd.DataFrame()\n",
    "df_bureau_balance_i = pd.DataFrame()\n",
    "df_credit_card_balance_i = pd.DataFrame()\n",
    "df_installments_payments_i = pd.DataFrame()\n",
    "df_POS_CASH_balance_i = pd.DataFrame()\n",
    "df_previous_application_i = pd.DataFrame()\n",
    "\n",
    "DATA_FRAME_I  = {\"df_application_test_i\" : df_application_test_i,\n",
    "                  \"df_application_train_i\" : df_application_train_i,\n",
    "                  \"df_bureau_i\" : df_bureau_i,\n",
    "                  \"df_bureau_balance_i\" : df_bureau_balance_i,\n",
    "                  \"df_credit_card_balance_i\" : df_credit_card_balance_i,\n",
    "                  \"df_installments_payments_i\" : df_installments_payments_i,\n",
    "                  \"df_POS_CASH_balance_i\" : df_POS_CASH_balance_i,\n",
    "                  \"df_previous_application_i\" : df_previous_application_i}\n",
    "\n",
    "SHOWPLOT = {\"NAME_CONTRACT_TYPE\" : [\"Type de contrat\",\"Répartition par type de contrat\"],\n",
    "            \"CODE_GENDER\" : [\"code genre\",\"Répartition par code genre\"],\n",
    "            \"NAME_INCOME_TYPE\" : [\"Revenu\",\"Répartition par type de revenu\"],\n",
    "            \"NAME_EDUCATION_TYPE\" : [\"Niveau d'éducation\",\"Répartition par Niveau d'éducation\"],\n",
    "            \"OCCUPATION_TYPE\" : [\"Emploi\",\"Répartition par type d'emploi\"],\n",
    "           \"REGION_RATING_CLIENT\" : [\"Rating de la région\",\"Répartition par rating\"],\n",
    "           \"REGION_RATING_CLIENT_W_CITY\" : [\"Rating de la ville\",\"Répartition par rating\"]}\n",
    "\n",
    "OLD_COL = [\"DAYS_BIRTH\",\"DAYS_EMPLOYED\",\"DAYS_REGISTRATION\",\"DAYS_ID_PUBLISH\",\"DAYS_LAST_PHONE_CHANGE\"]\n",
    "NEW_COL = [\"YEARS_BIRTH\",\"YEARS_EMPLOYED\",\"YEARS_REGISTRATION\",\"YEARS_ID_PUBLISH\",\"YEARS_LAST_PHONE_CHANGE\"]"
   ]
  },
  {
   "cell_type": "markdown",
   "metadata": {},
   "source": [
    "### Fonctions"
   ]
  },
  {
   "cell_type": "code",
   "execution_count": 3,
   "metadata": {},
   "outputs": [],
   "source": [
    "# fonction détermination variables tables master\n",
    "def aggregate_master(idf,idftrain,idftest, ikey,ipref):\n",
    "    # aggégation variables numériques\n",
    "    df_agg= tf.agg_numeric(idf, ikey, ipref)\n",
    "\n",
    "    odf_train = idftrain.merge(df_agg, on = ikey, how = \"left\")\n",
    "    odf_test = idftest.merge(df_agg, on = ikey, how = \"left\")\n",
    "    \n",
    "    # numérisation variables catégorielles\n",
    "    df_cat = tf.agg_categorical(idf, ikey, ipref)\n",
    "\n",
    "    odf_train = odf_train.merge(df_cat, on =ikey, how = \"left\")\n",
    "    odf_test = odf_test.merge(df_cat, on = ikey, how = \"left\")\n",
    "    \n",
    "    gc.enable()\n",
    "    del df_agg, df_cat,idftrain,idftest,idf\n",
    "    gc.collect()   \n",
    "\n",
    "    print(\"Training Features shape bureau: \", odf_train.shape)\n",
    "    print(\"Testing Features shape bureau: \", odf_test.shape)\n",
    "    \n",
    "    return odf_train,odf_test\n",
    "\n",
    "# fonction détermination variables tables child\n",
    "def aggregate_child(idf,idftrain,idftest, ikey,ipref):\n",
    "    df_by_client = tf.aggregate_client(idf, group_vars = ikey, df_names = ipref)\n",
    "    odf_train = idftrain.merge(df_by_client, on = ikey[1], how = \"left\")\n",
    "    odf_test = idftest.merge(df_by_client, on = ikey[1], how = \"left\")\n",
    "\n",
    "    gc.enable()\n",
    "    del df_by_client,idftrain,idftest,idf\n",
    "    gc.collect()\n",
    "    \n",
    "    print('Training Features shape bureau: ', odf_train.shape)\n",
    "    print('Testing Features shape bureau: ', odf_test.shape)\n",
    "    \n",
    "    return odf_train,odf_test\n"
   ]
  },
  {
   "cell_type": "markdown",
   "metadata": {},
   "source": [
    "## Réception des données"
   ]
  },
  {
   "cell_type": "markdown",
   "metadata": {},
   "source": [
    "### Lecture des fichiers et affichage caractéristiques"
   ]
  },
  {
   "cell_type": "code",
   "execution_count": 51,
   "metadata": {},
   "outputs": [
    {
     "data": {
      "application/javascript": [
       "\n",
       "        if (window._pyforest_update_imports_cell) { window._pyforest_update_imports_cell('import ToolFeatures as tf\\nimport ToolProject as tp\\nimport gc\\nimport sweetviz\\nfrom sklearn.feature_selection import SelectKBest\\nimport pandas as pd\\nimport numpy as np\\nfrom sklearn.feature_selection import f_classif\\nimport warnings'); }\n",
       "    "
      ],
      "text/plain": [
       "<IPython.core.display.Javascript object>"
      ]
     },
     "metadata": {},
     "output_type": "display_data"
    }
   ],
   "source": [
    "warnings.filterwarnings('ignore')"
   ]
  },
  {
   "cell_type": "code",
   "execution_count": 52,
   "metadata": {},
   "outputs": [
    {
     "data": {
      "application/javascript": [
       "\n",
       "        if (window._pyforest_update_imports_cell) { window._pyforest_update_imports_cell('import ToolFeatures as tf\\nimport ToolProject as tp\\nimport gc\\nimport sweetviz\\nfrom sklearn.feature_selection import SelectKBest\\nimport pandas as pd\\nimport numpy as np\\nfrom sklearn.feature_selection import f_classif\\nimport warnings'); }\n",
       "    "
      ],
      "text/plain": [
       "<IPython.core.display.Javascript object>"
      ]
     },
     "metadata": {},
     "output_type": "display_data"
    },
    {
     "data": {
      "application/javascript": [
       "\n",
       "        if (window._pyforest_update_imports_cell) { window._pyforest_update_imports_cell('import ToolFeatures as tf\\nimport ToolProject as tp\\nimport gc\\nimport sweetviz\\nfrom sklearn.feature_selection import SelectKBest\\nimport pandas as pd\\nimport numpy as np\\nfrom sklearn.feature_selection import f_classif\\nimport warnings'); }\n",
       "    "
      ],
      "text/plain": [
       "<IPython.core.display.Javascript object>"
      ]
     },
     "metadata": {},
     "output_type": "display_data"
    },
    {
     "data": {
      "application/javascript": [
       "\n",
       "        if (window._pyforest_update_imports_cell) { window._pyforest_update_imports_cell('import ToolFeatures as tf\\nimport ToolProject as tp\\nimport gc\\nimport sweetviz\\nfrom sklearn.feature_selection import SelectKBest\\nimport pandas as pd\\nimport numpy as np\\nfrom sklearn.feature_selection import f_classif\\nimport warnings'); }\n",
       "    "
      ],
      "text/plain": [
       "<IPython.core.display.Javascript object>"
      ]
     },
     "metadata": {},
     "output_type": "display_data"
    },
    {
     "data": {
      "application/javascript": [
       "\n",
       "        if (window._pyforest_update_imports_cell) { window._pyforest_update_imports_cell('import ToolFeatures as tf\\nimport ToolProject as tp\\nimport gc\\nimport sweetviz\\nfrom sklearn.feature_selection import SelectKBest\\nimport pandas as pd\\nimport numpy as np\\nfrom sklearn.feature_selection import f_classif\\nimport warnings'); }\n",
       "    "
      ],
      "text/plain": [
       "<IPython.core.display.Javascript object>"
      ]
     },
     "metadata": {},
     "output_type": "display_data"
    },
    {
     "data": {
      "application/javascript": [
       "\n",
       "        if (window._pyforest_update_imports_cell) { window._pyforest_update_imports_cell('import ToolFeatures as tf\\nimport ToolProject as tp\\nimport gc\\nimport sweetviz\\nfrom sklearn.feature_selection import SelectKBest\\nimport pandas as pd\\nimport numpy as np\\nfrom sklearn.feature_selection import f_classif\\nimport warnings'); }\n",
       "    "
      ],
      "text/plain": [
       "<IPython.core.display.Javascript object>"
      ]
     },
     "metadata": {},
     "output_type": "display_data"
    },
    {
     "data": {
      "application/javascript": [
       "\n",
       "        if (window._pyforest_update_imports_cell) { window._pyforest_update_imports_cell('import ToolFeatures as tf\\nimport ToolProject as tp\\nimport gc\\nimport sweetviz\\nfrom sklearn.feature_selection import SelectKBest\\nimport pandas as pd\\nimport numpy as np\\nfrom sklearn.feature_selection import f_classif\\nimport warnings'); }\n",
       "    "
      ],
      "text/plain": [
       "<IPython.core.display.Javascript object>"
      ]
     },
     "metadata": {},
     "output_type": "display_data"
    },
    {
     "data": {
      "application/javascript": [
       "\n",
       "        if (window._pyforest_update_imports_cell) { window._pyforest_update_imports_cell('import ToolFeatures as tf\\nimport ToolProject as tp\\nimport gc\\nimport sweetviz\\nfrom sklearn.feature_selection import SelectKBest\\nimport pandas as pd\\nimport numpy as np\\nfrom sklearn.feature_selection import f_classif\\nimport warnings'); }\n",
       "    "
      ],
      "text/plain": [
       "<IPython.core.display.Javascript object>"
      ]
     },
     "metadata": {},
     "output_type": "display_data"
    },
    {
     "data": {
      "application/javascript": [
       "\n",
       "        if (window._pyforest_update_imports_cell) { window._pyforest_update_imports_cell('import ToolFeatures as tf\\nimport ToolProject as tp\\nimport gc\\nimport sweetviz\\nfrom sklearn.feature_selection import SelectKBest\\nimport pandas as pd\\nimport numpy as np\\nfrom sklearn.feature_selection import f_classif\\nimport warnings'); }\n",
       "    "
      ],
      "text/plain": [
       "<IPython.core.display.Javascript object>"
      ]
     },
     "metadata": {},
     "output_type": "display_data"
    }
   ],
   "source": [
    "i = 0\n",
    "for df in DATA_FRAME_I.keys():\n",
    "    DATA_FRAME_I[df] = pd.read_csv(DATA_FILE[i], delimiter=\",\", na_values=['-'], encoding = \"utf-8\", low_memory=False)\n",
    "    i = i +1"
   ]
  },
  {
   "cell_type": "code",
   "execution_count": 6,
   "metadata": {},
   "outputs": [
    {
     "data": {
      "application/javascript": [
       "\n",
       "        if (window._pyforest_update_imports_cell) { window._pyforest_update_imports_cell('import ToolProject as tp\\nimport pandas as pd\\nimport warnings'); }\n",
       "    "
      ],
      "text/plain": [
       "<IPython.core.display.Javascript object>"
      ]
     },
     "metadata": {},
     "output_type": "display_data"
    },
    {
     "data": {
      "application/javascript": [
       "\n",
       "        if (window._pyforest_update_imports_cell) { window._pyforest_update_imports_cell('import ToolProject as tp\\nimport pandas as pd\\nimport warnings'); }\n",
       "    "
      ],
      "text/plain": [
       "<IPython.core.display.Javascript object>"
      ]
     },
     "metadata": {},
     "output_type": "display_data"
    },
    {
     "name": "stdout",
     "output_type": "stream",
     "text": [
      "Dataframe df_application_test_i | 48744 lignes | 121 colonnes | 76.19 % zones non nulles | 0.09 gb taille mémoire\n"
     ]
    },
    {
     "data": {
      "application/javascript": [
       "\n",
       "        if (window._pyforest_update_imports_cell) { window._pyforest_update_imports_cell('import ToolProject as tp\\nimport pandas as pd\\nimport warnings'); }\n",
       "    "
      ],
      "text/plain": [
       "<IPython.core.display.Javascript object>"
      ]
     },
     "metadata": {},
     "output_type": "display_data"
    },
    {
     "data": {
      "application/javascript": [
       "\n",
       "        if (window._pyforest_update_imports_cell) { window._pyforest_update_imports_cell('import ToolProject as tp\\nimport pandas as pd\\nimport warnings'); }\n",
       "    "
      ],
      "text/plain": [
       "<IPython.core.display.Javascript object>"
      ]
     },
     "metadata": {},
     "output_type": "display_data"
    },
    {
     "name": "stdout",
     "output_type": "stream",
     "text": [
      "Dataframe df_application_train_i | 307511 lignes | 122 colonnes | 75.6 % zones non nulles | 0.57 gb taille mémoire\n"
     ]
    },
    {
     "data": {
      "application/javascript": [
       "\n",
       "        if (window._pyforest_update_imports_cell) { window._pyforest_update_imports_cell('import ToolProject as tp\\nimport pandas as pd\\nimport warnings'); }\n",
       "    "
      ],
      "text/plain": [
       "<IPython.core.display.Javascript object>"
      ]
     },
     "metadata": {},
     "output_type": "display_data"
    },
    {
     "data": {
      "application/javascript": [
       "\n",
       "        if (window._pyforest_update_imports_cell) { window._pyforest_update_imports_cell('import ToolProject as tp\\nimport pandas as pd\\nimport warnings'); }\n",
       "    "
      ],
      "text/plain": [
       "<IPython.core.display.Javascript object>"
      ]
     },
     "metadata": {},
     "output_type": "display_data"
    },
    {
     "name": "stdout",
     "output_type": "stream",
     "text": [
      "Dataframe df_bureau_i | 1716428 lignes | 17 colonnes | 86.5 % zones non nulles | 0.54 gb taille mémoire\n"
     ]
    },
    {
     "data": {
      "application/javascript": [
       "\n",
       "        if (window._pyforest_update_imports_cell) { window._pyforest_update_imports_cell('import ToolProject as tp\\nimport pandas as pd\\nimport warnings'); }\n",
       "    "
      ],
      "text/plain": [
       "<IPython.core.display.Javascript object>"
      ]
     },
     "metadata": {},
     "output_type": "display_data"
    },
    {
     "data": {
      "application/javascript": [
       "\n",
       "        if (window._pyforest_update_imports_cell) { window._pyforest_update_imports_cell('import ToolProject as tp\\nimport pandas as pd\\nimport warnings'); }\n",
       "    "
      ],
      "text/plain": [
       "<IPython.core.display.Javascript object>"
      ]
     },
     "metadata": {},
     "output_type": "display_data"
    },
    {
     "name": "stdout",
     "output_type": "stream",
     "text": [
      "Dataframe df_bureau_balance_i | 27299925 lignes | 3 colonnes | 100.0 % zones non nulles | 2.13 gb taille mémoire\n"
     ]
    },
    {
     "data": {
      "application/javascript": [
       "\n",
       "        if (window._pyforest_update_imports_cell) { window._pyforest_update_imports_cell('import ToolProject as tp\\nimport pandas as pd\\nimport warnings'); }\n",
       "    "
      ],
      "text/plain": [
       "<IPython.core.display.Javascript object>"
      ]
     },
     "metadata": {},
     "output_type": "display_data"
    },
    {
     "data": {
      "application/javascript": [
       "\n",
       "        if (window._pyforest_update_imports_cell) { window._pyforest_update_imports_cell('import ToolProject as tp\\nimport pandas as pd\\nimport warnings'); }\n",
       "    "
      ],
      "text/plain": [
       "<IPython.core.display.Javascript object>"
      ]
     },
     "metadata": {},
     "output_type": "display_data"
    },
    {
     "name": "stdout",
     "output_type": "stream",
     "text": [
      "Dataframe df_credit_card_balance_i | 3840312 lignes | 23 colonnes | 93.35 % zones non nulles | 0.92 gb taille mémoire\n"
     ]
    },
    {
     "data": {
      "application/javascript": [
       "\n",
       "        if (window._pyforest_update_imports_cell) { window._pyforest_update_imports_cell('import ToolProject as tp\\nimport pandas as pd\\nimport warnings'); }\n",
       "    "
      ],
      "text/plain": [
       "<IPython.core.display.Javascript object>"
      ]
     },
     "metadata": {},
     "output_type": "display_data"
    },
    {
     "data": {
      "application/javascript": [
       "\n",
       "        if (window._pyforest_update_imports_cell) { window._pyforest_update_imports_cell('import ToolProject as tp\\nimport pandas as pd\\nimport warnings'); }\n",
       "    "
      ],
      "text/plain": [
       "<IPython.core.display.Javascript object>"
      ]
     },
     "metadata": {},
     "output_type": "display_data"
    },
    {
     "name": "stdout",
     "output_type": "stream",
     "text": [
      "Dataframe df_installments_payments_i | 13605401 lignes | 8 colonnes | 99.99 % zones non nulles | 0.87 gb taille mémoire\n"
     ]
    },
    {
     "data": {
      "application/javascript": [
       "\n",
       "        if (window._pyforest_update_imports_cell) { window._pyforest_update_imports_cell('import ToolProject as tp\\nimport pandas as pd\\nimport warnings'); }\n",
       "    "
      ],
      "text/plain": [
       "<IPython.core.display.Javascript object>"
      ]
     },
     "metadata": {},
     "output_type": "display_data"
    },
    {
     "data": {
      "application/javascript": [
       "\n",
       "        if (window._pyforest_update_imports_cell) { window._pyforest_update_imports_cell('import ToolProject as tp\\nimport pandas as pd\\nimport warnings'); }\n",
       "    "
      ],
      "text/plain": [
       "<IPython.core.display.Javascript object>"
      ]
     },
     "metadata": {},
     "output_type": "display_data"
    },
    {
     "name": "stdout",
     "output_type": "stream",
     "text": [
      "Dataframe df_POS_CASH_balance_i | 10001358 lignes | 8 colonnes | 99.93 % zones non nulles | 1.19 gb taille mémoire\n"
     ]
    },
    {
     "data": {
      "application/javascript": [
       "\n",
       "        if (window._pyforest_update_imports_cell) { window._pyforest_update_imports_cell('import ToolProject as tp\\nimport pandas as pd\\nimport warnings'); }\n",
       "    "
      ],
      "text/plain": [
       "<IPython.core.display.Javascript object>"
      ]
     },
     "metadata": {},
     "output_type": "display_data"
    },
    {
     "data": {
      "application/javascript": [
       "\n",
       "        if (window._pyforest_update_imports_cell) { window._pyforest_update_imports_cell('import ToolProject as tp\\nimport pandas as pd\\nimport warnings'); }\n",
       "    "
      ],
      "text/plain": [
       "<IPython.core.display.Javascript object>"
      ]
     },
     "metadata": {},
     "output_type": "display_data"
    },
    {
     "name": "stdout",
     "output_type": "stream",
     "text": [
      "Dataframe df_previous_application_i | 1670214 lignes | 37 colonnes | 82.02 % zones non nulles | 2.0 gb taille mémoire\n"
     ]
    }
   ],
   "source": [
    "# Compute number of rows and columns\n",
    "for df in DATA_FRAME_I.keys():\n",
    "    print(\"Dataframe {} | {} lignes | {} colonnes | {} % zones non nulles | {} gb taille mémoire\".format(df,DATA_FRAME_I[df].shape[0],\n",
    "                                                                                                     DATA_FRAME_I[df].shape[1],\n",
    "                                                                                                     str(tp.calc_filled_cells(DATA_FRAME_I[df])),\n",
    "                                                                                                     tp.return_size(DATA_FRAME_I[df])\n",
    "                                                                                                    ))"
   ]
  },
  {
   "cell_type": "markdown",
   "metadata": {},
   "source": [
    "### Réduction taille des dataframes"
   ]
  },
  {
   "cell_type": "code",
   "execution_count": 53,
   "metadata": {},
   "outputs": [
    {
     "data": {
      "application/javascript": [
       "\n",
       "        if (window._pyforest_update_imports_cell) { window._pyforest_update_imports_cell('import ToolFeatures as tf\\nimport ToolProject as tp\\nimport gc\\nimport sweetviz\\nfrom sklearn.feature_selection import SelectKBest\\nimport pandas as pd\\nimport numpy as np\\nfrom sklearn.feature_selection import f_classif\\nimport warnings'); }\n",
       "    "
      ],
      "text/plain": [
       "<IPython.core.display.Javascript object>"
      ]
     },
     "metadata": {},
     "output_type": "display_data"
    },
    {
     "name": "stdout",
     "output_type": "stream",
     "text": [
      "df_application_test_i | Taille mémoire originale : 0.09 gb | Nouvelle Taille mémoire : 0.02 gb.\n"
     ]
    },
    {
     "data": {
      "application/javascript": [
       "\n",
       "        if (window._pyforest_update_imports_cell) { window._pyforest_update_imports_cell('import ToolFeatures as tf\\nimport ToolProject as tp\\nimport gc\\nimport sweetviz\\nfrom sklearn.feature_selection import SelectKBest\\nimport pandas as pd\\nimport numpy as np\\nfrom sklearn.feature_selection import f_classif\\nimport warnings'); }\n",
       "    "
      ],
      "text/plain": [
       "<IPython.core.display.Javascript object>"
      ]
     },
     "metadata": {},
     "output_type": "display_data"
    },
    {
     "name": "stdout",
     "output_type": "stream",
     "text": [
      "df_application_train_i | Taille mémoire originale : 0.57 gb | Nouvelle Taille mémoire : 0.14 gb.\n"
     ]
    },
    {
     "data": {
      "application/javascript": [
       "\n",
       "        if (window._pyforest_update_imports_cell) { window._pyforest_update_imports_cell('import ToolFeatures as tf\\nimport ToolProject as tp\\nimport gc\\nimport sweetviz\\nfrom sklearn.feature_selection import SelectKBest\\nimport pandas as pd\\nimport numpy as np\\nfrom sklearn.feature_selection import f_classif\\nimport warnings'); }\n",
       "    "
      ],
      "text/plain": [
       "<IPython.core.display.Javascript object>"
      ]
     },
     "metadata": {},
     "output_type": "display_data"
    },
    {
     "name": "stdout",
     "output_type": "stream",
     "text": [
      "df_bureau_i | Taille mémoire originale : 0.54 gb | Nouvelle Taille mémoire : 0.1 gb.\n"
     ]
    },
    {
     "data": {
      "application/javascript": [
       "\n",
       "        if (window._pyforest_update_imports_cell) { window._pyforest_update_imports_cell('import ToolFeatures as tf\\nimport ToolProject as tp\\nimport gc\\nimport sweetviz\\nfrom sklearn.feature_selection import SelectKBest\\nimport pandas as pd\\nimport numpy as np\\nfrom sklearn.feature_selection import f_classif\\nimport warnings'); }\n",
       "    "
      ],
      "text/plain": [
       "<IPython.core.display.Javascript object>"
      ]
     },
     "metadata": {},
     "output_type": "display_data"
    },
    {
     "name": "stdout",
     "output_type": "stream",
     "text": [
      "df_bureau_balance_i | Taille mémoire originale : 2.13 gb | Nouvelle Taille mémoire : 0.25 gb.\n"
     ]
    },
    {
     "data": {
      "application/javascript": [
       "\n",
       "        if (window._pyforest_update_imports_cell) { window._pyforest_update_imports_cell('import ToolFeatures as tf\\nimport ToolProject as tp\\nimport gc\\nimport sweetviz\\nfrom sklearn.feature_selection import SelectKBest\\nimport pandas as pd\\nimport numpy as np\\nfrom sklearn.feature_selection import f_classif\\nimport warnings'); }\n",
       "    "
      ],
      "text/plain": [
       "<IPython.core.display.Javascript object>"
      ]
     },
     "metadata": {},
     "output_type": "display_data"
    },
    {
     "name": "stdout",
     "output_type": "stream",
     "text": [
      "df_credit_card_balance_i | Taille mémoire originale : 0.92 gb | Nouvelle Taille mémoire : 0.34 gb.\n"
     ]
    },
    {
     "data": {
      "application/javascript": [
       "\n",
       "        if (window._pyforest_update_imports_cell) { window._pyforest_update_imports_cell('import ToolFeatures as tf\\nimport ToolProject as tp\\nimport gc\\nimport sweetviz\\nfrom sklearn.feature_selection import SelectKBest\\nimport pandas as pd\\nimport numpy as np\\nfrom sklearn.feature_selection import f_classif\\nimport warnings'); }\n",
       "    "
      ],
      "text/plain": [
       "<IPython.core.display.Javascript object>"
      ]
     },
     "metadata": {},
     "output_type": "display_data"
    },
    {
     "name": "stdout",
     "output_type": "stream",
     "text": [
      "df_installments_payments_i | Taille mémoire originale : 0.87 gb | Nouvelle Taille mémoire : 0.44 gb.\n"
     ]
    },
    {
     "data": {
      "application/javascript": [
       "\n",
       "        if (window._pyforest_update_imports_cell) { window._pyforest_update_imports_cell('import ToolFeatures as tf\\nimport ToolProject as tp\\nimport gc\\nimport sweetviz\\nfrom sklearn.feature_selection import SelectKBest\\nimport pandas as pd\\nimport numpy as np\\nfrom sklearn.feature_selection import f_classif\\nimport warnings'); }\n",
       "    "
      ],
      "text/plain": [
       "<IPython.core.display.Javascript object>"
      ]
     },
     "metadata": {},
     "output_type": "display_data"
    },
    {
     "name": "stdout",
     "output_type": "stream",
     "text": [
      "df_POS_CASH_balance_i | Taille mémoire originale : 1.19 gb | Nouvelle Taille mémoire : 0.29 gb.\n"
     ]
    },
    {
     "data": {
      "application/javascript": [
       "\n",
       "        if (window._pyforest_update_imports_cell) { window._pyforest_update_imports_cell('import ToolFeatures as tf\\nimport ToolProject as tp\\nimport gc\\nimport sweetviz\\nfrom sklearn.feature_selection import SelectKBest\\nimport pandas as pd\\nimport numpy as np\\nfrom sklearn.feature_selection import f_classif\\nimport warnings'); }\n",
       "    "
      ],
      "text/plain": [
       "<IPython.core.display.Javascript object>"
      ]
     },
     "metadata": {},
     "output_type": "display_data"
    },
    {
     "name": "stdout",
     "output_type": "stream",
     "text": [
      "df_previous_application_i | Taille mémoire originale : 2.0 gb | Nouvelle Taille mémoire : 0.17 gb.\n"
     ]
    }
   ],
   "source": [
    "for df in DATA_FRAME_I.keys():\n",
    "    DATA_FRAME_I[df] = tp.convert_types(DATA_FRAME_I[df],df,\"SK_ID\",1,0)    "
   ]
  },
  {
   "cell_type": "markdown",
   "metadata": {},
   "source": [
    "## Analyse exploratoire\n",
    "le but de ce chapitre est d'analyser de manière quantitative et qualitative les fichiers csv qui nous est fourni"
   ]
  },
  {
   "cell_type": "markdown",
   "metadata": {},
   "source": [
    "### lancement EDA avec sweetviz"
   ]
  },
  {
   "cell_type": "code",
   "execution_count": 8,
   "metadata": {},
   "outputs": [],
   "source": [
    "df_train_stat = DATA_FRAME_I[\"df_application_train_i\"].copy()\n",
    "df_test_stat = DATA_FRAME_I[\"df_application_test_i\"].copy()\n",
    "df_train_stat = df_train_stat.drop(columns = \"SK_ID_CURR\")\n",
    "df_test_stat = df_test_stat.drop(columns = \"SK_ID_CURR\")"
   ]
  },
  {
   "cell_type": "code",
   "execution_count": 9,
   "metadata": {},
   "outputs": [
    {
     "data": {
      "application/javascript": [
       "\n",
       "        if (window._pyforest_update_imports_cell) { window._pyforest_update_imports_cell('import ToolProject as tp\\nimport pandas as pd\\nimport sweetviz\\nimport warnings'); }\n",
       "    "
      ],
      "text/plain": [
       "<IPython.core.display.Javascript object>"
      ]
     },
     "metadata": {},
     "output_type": "display_data"
    },
    {
     "data": {
      "application/vnd.jupyter.widget-view+json": {
       "model_id": "a0488451bbb24f5689ffc9d9bffdc48a",
       "version_major": 2,
       "version_minor": 0
      },
      "text/plain": [
       "HBox(children=(FloatProgress(value=0.0, layout=Layout(flex='2'), max=122.0), HTML(value='')), layout=Layout(di…"
      ]
     },
     "metadata": {},
     "output_type": "display_data"
    },
    {
     "name": "stdout",
     "output_type": "stream",
     "text": [
      "\n",
      "Report Compare_Results.html was generated! NOTEBOOK/COLAB USERS: the web browser MAY not pop up, regardless, the report IS saved in your notebook/colab files.\n"
     ]
    }
   ],
   "source": [
    "report_comp=sv.analyze([df_train_stat,\"Train\"],target_feat=\"TARGET\") \n",
    "report_comp.show_html('Compare_Results.html')"
   ]
  },
  {
   "cell_type": "markdown",
   "metadata": {},
   "source": [
    "### Correction anomalies et suppression outliers"
   ]
  },
  {
   "cell_type": "code",
   "execution_count": 10,
   "metadata": {},
   "outputs": [
    {
     "data": {
      "application/javascript": [
       "\n",
       "        if (window._pyforest_update_imports_cell) { window._pyforest_update_imports_cell('import ToolProject as tp\\nimport pandas as pd\\nimport sweetviz\\nimport warnings'); }\n",
       "    "
      ],
      "text/plain": [
       "<IPython.core.display.Javascript object>"
      ]
     },
     "metadata": {},
     "output_type": "display_data"
    },
    {
     "data": {
      "image/png": "[encoded data removed]",
      "text/plain": [
       "<Figure size 600x400 with 1 Axes>"
      ]
     },
     "metadata": {},
     "output_type": "display_data"
    },
    {
     "data": {
      "image/png": "[encoded data removed]",
      "text/plain": [
       "<Figure size 600x400 with 1 Axes>"
      ]
     },
     "metadata": {},
     "output_type": "display_data"
    },
    {
     "data": {
      "image/png": "[encoded data removed]",
      "text/plain": [
       "<Figure size 600x400 with 1 Axes>"
      ]
     },
     "metadata": {},
     "output_type": "display_data"
    },
    {
     "data": {
      "image/png": "[encoded data removed]",
      "text/plain": [
       "<Figure size 600x400 with 1 Axes>"
      ]
     },
     "metadata": {},
     "output_type": "display_data"
    },
    {
     "data": {
      "image/png": "[encoded data removed]",
      "text/plain": [
       "<Figure size 600x400 with 1 Axes>"
      ]
     },
     "metadata": {},
     "output_type": "display_data"
    },
    {
     "data": {
      "text/html": [
       "<div>\n",
       "<style scoped>\n",
       "    .dataframe tbody tr th:only-of-type {\n",
       "        vertical-align: middle;\n",
       "    }\n",
       "\n",
       "    .dataframe tbody tr th {\n",
       "        vertical-align: top;\n",
       "    }\n",
       "\n",
       "    .dataframe thead th {\n",
       "        text-align: right;\n",
       "    }\n",
       "</style>\n",
       "<table border=\"1\" class=\"dataframe\">\n",
       "  <thead>\n",
       "    <tr style=\"text-align: right;\">\n",
       "      <th></th>\n",
       "      <th>DAYS_BIRTH</th>\n",
       "      <th>DAYS_EMPLOYED</th>\n",
       "      <th>DAYS_REGISTRATION</th>\n",
       "      <th>DAYS_ID_PUBLISH</th>\n",
       "      <th>DAYS_LAST_PHONE_CHANGE</th>\n",
       "    </tr>\n",
       "  </thead>\n",
       "  <tbody>\n",
       "    <tr>\n",
       "      <th>count</th>\n",
       "      <td>307511.000000</td>\n",
       "      <td>307511.000000</td>\n",
       "      <td>307511.000000</td>\n",
       "      <td>307511.000000</td>\n",
       "      <td>307510.000000</td>\n",
       "    </tr>\n",
       "    <tr>\n",
       "      <th>mean</th>\n",
       "      <td>-16036.995067</td>\n",
       "      <td>63815.045904</td>\n",
       "      <td>-4986.019531</td>\n",
       "      <td>-2994.202373</td>\n",
       "      <td>-962.805725</td>\n",
       "    </tr>\n",
       "    <tr>\n",
       "      <th>std</th>\n",
       "      <td>4363.988632</td>\n",
       "      <td>141275.766519</td>\n",
       "      <td>3522.758545</td>\n",
       "      <td>1509.450419</td>\n",
       "      <td>826.890869</td>\n",
       "    </tr>\n",
       "    <tr>\n",
       "      <th>min</th>\n",
       "      <td>-25229.000000</td>\n",
       "      <td>-17912.000000</td>\n",
       "      <td>-24672.000000</td>\n",
       "      <td>-7197.000000</td>\n",
       "      <td>-4292.000000</td>\n",
       "    </tr>\n",
       "    <tr>\n",
       "      <th>5%</th>\n",
       "      <td>-23204.000000</td>\n",
       "      <td>-6742.500000</td>\n",
       "      <td>-11416.000000</td>\n",
       "      <td>-4944.000000</td>\n",
       "      <td>-2522.000000</td>\n",
       "    </tr>\n",
       "    <tr>\n",
       "      <th>10%</th>\n",
       "      <td>-22181.000000</td>\n",
       "      <td>-4881.000000</td>\n",
       "      <td>-9932.000000</td>\n",
       "      <td>-4724.000000</td>\n",
       "      <td>-2158.000000</td>\n",
       "    </tr>\n",
       "    <tr>\n",
       "      <th>20%</th>\n",
       "      <td>-20474.000000</td>\n",
       "      <td>-3231.000000</td>\n",
       "      <td>-8230.000000</td>\n",
       "      <td>-4430.000000</td>\n",
       "      <td>-1720.000000</td>\n",
       "    </tr>\n",
       "    <tr>\n",
       "      <th>25%</th>\n",
       "      <td>-19682.000000</td>\n",
       "      <td>-2760.000000</td>\n",
       "      <td>-7479.500000</td>\n",
       "      <td>-4299.000000</td>\n",
       "      <td>-1570.000000</td>\n",
       "    </tr>\n",
       "    <tr>\n",
       "      <th>50%</th>\n",
       "      <td>-15750.000000</td>\n",
       "      <td>-1213.000000</td>\n",
       "      <td>-4504.000000</td>\n",
       "      <td>-3254.000000</td>\n",
       "      <td>-757.000000</td>\n",
       "    </tr>\n",
       "    <tr>\n",
       "      <th>60%</th>\n",
       "      <td>-14416.000000</td>\n",
       "      <td>-822.000000</td>\n",
       "      <td>-3537.000000</td>\n",
       "      <td>-2654.000000</td>\n",
       "      <td>-546.000000</td>\n",
       "    </tr>\n",
       "    <tr>\n",
       "      <th>75%</th>\n",
       "      <td>-12413.000000</td>\n",
       "      <td>-289.000000</td>\n",
       "      <td>-2010.000000</td>\n",
       "      <td>-1720.000000</td>\n",
       "      <td>-274.000000</td>\n",
       "    </tr>\n",
       "    <tr>\n",
       "      <th>80%</th>\n",
       "      <td>-11694.000000</td>\n",
       "      <td>-144.000000</td>\n",
       "      <td>-1491.000000</td>\n",
       "      <td>-1378.000000</td>\n",
       "      <td>-161.000000</td>\n",
       "    </tr>\n",
       "    <tr>\n",
       "      <th>90%</th>\n",
       "      <td>-10284.000000</td>\n",
       "      <td>365243.000000</td>\n",
       "      <td>-690.000000</td>\n",
       "      <td>-730.000000</td>\n",
       "      <td>0.000000</td>\n",
       "    </tr>\n",
       "    <tr>\n",
       "      <th>max</th>\n",
       "      <td>-7489.000000</td>\n",
       "      <td>365243.000000</td>\n",
       "      <td>0.000000</td>\n",
       "      <td>0.000000</td>\n",
       "      <td>0.000000</td>\n",
       "    </tr>\n",
       "  </tbody>\n",
       "</table>\n",
       "</div>"
      ],
      "text/plain": [
       "          DAYS_BIRTH  DAYS_EMPLOYED  DAYS_REGISTRATION  DAYS_ID_PUBLISH  \\\n",
       "count  307511.000000  307511.000000      307511.000000    307511.000000   \n",
       "mean   -16036.995067   63815.045904       -4986.019531     -2994.202373   \n",
       "std      4363.988632  141275.766519        3522.758545      1509.450419   \n",
       "min    -25229.000000  -17912.000000      -24672.000000     -7197.000000   \n",
       "5%     -23204.000000   -6742.500000      -11416.000000     -4944.000000   \n",
       "10%    -22181.000000   -4881.000000       -9932.000000     -4724.000000   \n",
       "20%    -20474.000000   -3231.000000       -8230.000000     -4430.000000   \n",
       "25%    -19682.000000   -2760.000000       -7479.500000     -4299.000000   \n",
       "50%    -15750.000000   -1213.000000       -4504.000000     -3254.000000   \n",
       "60%    -14416.000000    -822.000000       -3537.000000     -2654.000000   \n",
       "75%    -12413.000000    -289.000000       -2010.000000     -1720.000000   \n",
       "80%    -11694.000000    -144.000000       -1491.000000     -1378.000000   \n",
       "90%    -10284.000000  365243.000000        -690.000000      -730.000000   \n",
       "max     -7489.000000  365243.000000           0.000000         0.000000   \n",
       "\n",
       "       DAYS_LAST_PHONE_CHANGE  \n",
       "count           307510.000000  \n",
       "mean              -962.805725  \n",
       "std                826.890869  \n",
       "min              -4292.000000  \n",
       "5%               -2522.000000  \n",
       "10%              -2158.000000  \n",
       "20%              -1720.000000  \n",
       "25%              -1570.000000  \n",
       "50%               -757.000000  \n",
       "60%               -546.000000  \n",
       "75%               -274.000000  \n",
       "80%               -161.000000  \n",
       "90%                  0.000000  \n",
       "max                  0.000000  "
      ]
     },
     "execution_count": 10,
     "metadata": {},
     "output_type": "execute_result"
    }
   ],
   "source": [
    "tp.analysis_outliers(DATA_FRAME_I[\"df_application_train_i\"], OLD_COL)"
   ]
  },
  {
   "cell_type": "code",
   "execution_count": 54,
   "metadata": {},
   "outputs": [
    {
     "data": {
      "application/javascript": [
       "\n",
       "        if (window._pyforest_update_imports_cell) { window._pyforest_update_imports_cell('import ToolFeatures as tf\\nimport ToolProject as tp\\nimport gc\\nimport sweetviz\\nfrom sklearn.feature_selection import SelectKBest\\nimport pandas as pd\\nimport numpy as np\\nfrom sklearn.feature_selection import f_classif\\nimport warnings'); }\n",
       "    "
      ],
      "text/plain": [
       "<IPython.core.display.Javascript object>"
      ]
     },
     "metadata": {},
     "output_type": "display_data"
    },
    {
     "data": {
      "application/javascript": [
       "\n",
       "        if (window._pyforest_update_imports_cell) { window._pyforest_update_imports_cell('import ToolFeatures as tf\\nimport ToolProject as tp\\nimport gc\\nimport sweetviz\\nfrom sklearn.feature_selection import SelectKBest\\nimport pandas as pd\\nimport numpy as np\\nfrom sklearn.feature_selection import f_classif\\nimport warnings'); }\n",
       "    "
      ],
      "text/plain": [
       "<IPython.core.display.Javascript object>"
      ]
     },
     "metadata": {},
     "output_type": "display_data"
    }
   ],
   "source": [
    "DATA_FRAME_I[\"df_application_train_i\"]['DAYS_EMPLOYED'].replace({365243: np.nan}, inplace = True)\n",
    "DATA_FRAME_I[\"df_application_test_i\"]['DAYS_EMPLOYED'].replace({365243: np.nan}, inplace = True)"
   ]
  },
  {
   "cell_type": "code",
   "execution_count": 55,
   "metadata": {},
   "outputs": [],
   "source": [
    "i = 0\n",
    "for col in OLD_COL:\n",
    "    DATA_FRAME_I[\"df_application_train_i\"][NEW_COL[i]] = DATA_FRAME_I[\"df_application_train_i\"][OLD_COL[i]].apply(lambda x: x/-365)\n",
    "    DATA_FRAME_I[\"df_application_test_i\"][NEW_COL[i]] = DATA_FRAME_I[\"df_application_test_i\"][OLD_COL[i]].apply(lambda x: x/-365)\n",
    "    i = i + 1    "
   ]
  },
  {
   "cell_type": "code",
   "execution_count": 56,
   "metadata": {},
   "outputs": [],
   "source": [
    "DATA_FRAME_I[\"df_application_train_i\"].drop(OLD_COL, axis = 1, inplace = True)\n",
    "DATA_FRAME_I[\"df_application_test_i\"].drop(OLD_COL, axis = 1, inplace = True)"
   ]
  },
  {
   "cell_type": "markdown",
   "metadata": {},
   "source": [
    "### lancement EDA données corrigées avec sweetviz"
   ]
  },
  {
   "cell_type": "code",
   "execution_count": 13,
   "metadata": {},
   "outputs": [],
   "source": [
    "df_train_stat = DATA_FRAME_I[\"df_application_train_i\"].copy()\n",
    "df_test_stat = DATA_FRAME_I[\"df_application_test_i\"].copy()\n",
    "df_train_stat = df_train_stat.drop(columns = \"SK_ID_CURR\")\n",
    "df_test_stat = df_test_stat.drop(columns = \"SK_ID_CURR\")"
   ]
  },
  {
   "cell_type": "code",
   "execution_count": 14,
   "metadata": {},
   "outputs": [
    {
     "data": {
      "application/javascript": [
       "\n",
       "        if (window._pyforest_update_imports_cell) { window._pyforest_update_imports_cell('import ToolProject as tp\\nimport sweetviz\\nimport pandas as pd\\nimport numpy as np\\nimport warnings'); }\n",
       "    "
      ],
      "text/plain": [
       "<IPython.core.display.Javascript object>"
      ]
     },
     "metadata": {},
     "output_type": "display_data"
    },
    {
     "data": {
      "application/vnd.jupyter.widget-view+json": {
       "model_id": "98850883838a4184bbc2c19d6fc8d40d",
       "version_major": 2,
       "version_minor": 0
      },
      "text/plain": [
       "HBox(children=(FloatProgress(value=0.0, layout=Layout(flex='2'), max=117.0), HTML(value='')), layout=Layout(di…"
      ]
     },
     "metadata": {},
     "output_type": "display_data"
    },
    {
     "name": "stdout",
     "output_type": "stream",
     "text": [
      "\n",
      "Report Compare_Results_corr.html was generated! NOTEBOOK/COLAB USERS: the web browser MAY not pop up, regardless, the report IS saved in your notebook/colab files.\n"
     ]
    }
   ],
   "source": [
    "report_comp_corr=sv.analyze([df_train_stat,'Train'],target_feat=\"TARGET\") \n",
    "report_comp_corr.show_html('Compare_Results_corr.html')"
   ]
  },
  {
   "cell_type": "code",
   "execution_count": 15,
   "metadata": {},
   "outputs": [
    {
     "data": {
      "application/javascript": [
       "\n",
       "        if (window._pyforest_update_imports_cell) { window._pyforest_update_imports_cell('import ToolProject as tp\\nimport gc\\nimport sweetviz\\nimport pandas as pd\\nimport numpy as np\\nimport warnings'); }\n",
       "    "
      ],
      "text/plain": [
       "<IPython.core.display.Javascript object>"
      ]
     },
     "metadata": {},
     "output_type": "display_data"
    },
    {
     "data": {
      "application/javascript": [
       "\n",
       "        if (window._pyforest_update_imports_cell) { window._pyforest_update_imports_cell('import ToolProject as tp\\nimport gc\\nimport sweetviz\\nimport pandas as pd\\nimport numpy as np\\nimport warnings'); }\n",
       "    "
      ],
      "text/plain": [
       "<IPython.core.display.Javascript object>"
      ]
     },
     "metadata": {},
     "output_type": "display_data"
    },
    {
     "data": {
      "text/plain": [
       "1153237"
      ]
     },
     "execution_count": 15,
     "metadata": {},
     "output_type": "execute_result"
    }
   ],
   "source": [
    "gc.enable()\n",
    "del df_train_stat, df_test_stat\n",
    "gc.collect()"
   ]
  },
  {
   "cell_type": "markdown",
   "metadata": {},
   "source": [
    "## création des features"
   ]
  },
  {
   "cell_type": "markdown",
   "metadata": {},
   "source": [
    "### création dataframe clé client + bureau + fusion bureau balance"
   ]
  },
  {
   "cell_type": "code",
   "execution_count": 57,
   "metadata": {},
   "outputs": [],
   "source": [
    "df_keys_cli_bureau = DATA_FRAME_I[\"df_bureau_i\"][[\"SK_ID_CURR\",\"SK_ID_BUREAU\"]]"
   ]
  },
  {
   "cell_type": "code",
   "execution_count": 58,
   "metadata": {},
   "outputs": [],
   "source": [
    "DATA_FRAME_I[\"df_bureau_balance_i\"] = DATA_FRAME_I[\"df_bureau_balance_i\"].merge(df_keys_cli_bureau, on =\"SK_ID_BUREAU\", how = \"left\")"
   ]
  },
  {
   "cell_type": "markdown",
   "metadata": {},
   "source": [
    "### Transformation valables catégorielles dataframe maîtres"
   ]
  },
  {
   "cell_type": "code",
   "execution_count": 59,
   "metadata": {},
   "outputs": [
    {
     "name": "stdout",
     "output_type": "stream",
     "text": [
      "Training Features shape before :  (307511, 122)\n",
      "Testing Features shape before :  (48744, 121)\n"
     ]
    },
    {
     "data": {
      "application/javascript": [
       "\n",
       "        if (window._pyforest_update_imports_cell) { window._pyforest_update_imports_cell('import ToolFeatures as tf\\nimport ToolProject as tp\\nimport gc\\nimport sweetviz\\nfrom sklearn.feature_selection import SelectKBest\\nimport pandas as pd\\nimport numpy as np\\nfrom sklearn.feature_selection import f_classif\\nimport warnings'); }\n",
       "    "
      ],
      "text/plain": [
       "<IPython.core.display.Javascript object>"
      ]
     },
     "metadata": {},
     "output_type": "display_data"
    },
    {
     "data": {
      "application/javascript": [
       "\n",
       "        if (window._pyforest_update_imports_cell) { window._pyforest_update_imports_cell('import ToolFeatures as tf\\nimport ToolProject as tp\\nimport gc\\nimport sweetviz\\nfrom sklearn.feature_selection import SelectKBest\\nimport pandas as pd\\nimport numpy as np\\nfrom sklearn.feature_selection import f_classif\\nimport warnings'); }\n",
       "    "
      ],
      "text/plain": [
       "<IPython.core.display.Javascript object>"
      ]
     },
     "metadata": {},
     "output_type": "display_data"
    },
    {
     "name": "stdout",
     "output_type": "stream",
     "text": [
      "Training Features shape after:  (307511, 246)\n",
      "Testing Features shape after:  (48744, 242)\n"
     ]
    }
   ],
   "source": [
    "print('Training Features shape before : ', DATA_FRAME_I[\"df_application_train_i\"].shape)\n",
    "print('Testing Features shape before : ', DATA_FRAME_I[\"df_application_test_i\"].shape)\n",
    "\n",
    "df_train = pd.get_dummies(DATA_FRAME_I[\"df_application_train_i\"])\n",
    "df_test = pd.get_dummies(DATA_FRAME_I[\"df_application_test_i\"])\n",
    "\n",
    "print('Training Features shape after: ', df_train.shape)\n",
    "print('Testing Features shape after: ', df_test.shape)"
   ]
  },
  {
   "cell_type": "markdown",
   "metadata": {},
   "source": [
    "### Détermination nouvelles features dataframes enfants"
   ]
  },
  {
   "cell_type": "markdown",
   "metadata": {},
   "source": [
    "#### table bureau"
   ]
  },
  {
   "cell_type": "code",
   "execution_count": 60,
   "metadata": {},
   "outputs": [
    {
     "data": {
      "application/javascript": [
       "\n",
       "        if (window._pyforest_update_imports_cell) { window._pyforest_update_imports_cell('import ToolFeatures as tf\\nimport ToolProject as tp\\nimport gc\\nimport sweetviz\\nfrom sklearn.feature_selection import SelectKBest\\nimport pandas as pd\\nimport numpy as np\\nfrom sklearn.feature_selection import f_classif\\nimport warnings'); }\n",
       "    "
      ],
      "text/plain": [
       "<IPython.core.display.Javascript object>"
      ]
     },
     "metadata": {},
     "output_type": "display_data"
    },
    {
     "data": {
      "application/javascript": [
       "\n",
       "        if (window._pyforest_update_imports_cell) { window._pyforest_update_imports_cell('import ToolFeatures as tf\\nimport ToolProject as tp\\nimport gc\\nimport sweetviz\\nfrom sklearn.feature_selection import SelectKBest\\nimport pandas as pd\\nimport numpy as np\\nfrom sklearn.feature_selection import f_classif\\nimport warnings'); }\n",
       "    "
      ],
      "text/plain": [
       "<IPython.core.display.Javascript object>"
      ]
     },
     "metadata": {},
     "output_type": "display_data"
    },
    {
     "data": {
      "application/javascript": [
       "\n",
       "        if (window._pyforest_update_imports_cell) { window._pyforest_update_imports_cell('import ToolFeatures as tf\\nimport ToolProject as tp\\nimport gc\\nimport sweetviz\\nfrom sklearn.feature_selection import SelectKBest\\nimport pandas as pd\\nimport numpy as np\\nfrom sklearn.feature_selection import f_classif\\nimport warnings'); }\n",
       "    "
      ],
      "text/plain": [
       "<IPython.core.display.Javascript object>"
      ]
     },
     "metadata": {},
     "output_type": "display_data"
    },
    {
     "data": {
      "application/javascript": [
       "\n",
       "        if (window._pyforest_update_imports_cell) { window._pyforest_update_imports_cell('import ToolFeatures as tf\\nimport ToolProject as tp\\nimport gc\\nimport sweetviz\\nfrom sklearn.feature_selection import SelectKBest\\nimport pandas as pd\\nimport numpy as np\\nfrom sklearn.feature_selection import f_classif\\nimport warnings'); }\n",
       "    "
      ],
      "text/plain": [
       "<IPython.core.display.Javascript object>"
      ]
     },
     "metadata": {},
     "output_type": "display_data"
    },
    {
     "name": "stdout",
     "output_type": "stream",
     "text": [
      "Training Features shape bureau:  (307511, 349)\n",
      "Testing Features shape bureau:  (48744, 345)\n"
     ]
    }
   ],
   "source": [
    "DATA_FRAME_I[\"df_bureau_i\"] = DATA_FRAME_I[\"df_bureau_i\"].drop(columns = \"SK_ID_BUREAU\")\n",
    "df_train,df_test = aggregate_master(DATA_FRAME_I[\"df_bureau_i\"],df_train,df_test, \"SK_ID_CURR\",\"bureau\")"
   ]
  },
  {
   "cell_type": "markdown",
   "metadata": {},
   "source": [
    "#### table previous application"
   ]
  },
  {
   "cell_type": "code",
   "execution_count": 61,
   "metadata": {},
   "outputs": [
    {
     "data": {
      "application/javascript": [
       "\n",
       "        if (window._pyforest_update_imports_cell) { window._pyforest_update_imports_cell('import ToolFeatures as tf\\nimport ToolProject as tp\\nimport gc\\nimport sweetviz\\nfrom sklearn.feature_selection import SelectKBest\\nimport pandas as pd\\nimport numpy as np\\nfrom sklearn.feature_selection import f_classif\\nimport warnings'); }\n",
       "    "
      ],
      "text/plain": [
       "<IPython.core.display.Javascript object>"
      ]
     },
     "metadata": {},
     "output_type": "display_data"
    },
    {
     "data": {
      "application/javascript": [
       "\n",
       "        if (window._pyforest_update_imports_cell) { window._pyforest_update_imports_cell('import ToolFeatures as tf\\nimport ToolProject as tp\\nimport gc\\nimport sweetviz\\nfrom sklearn.feature_selection import SelectKBest\\nimport pandas as pd\\nimport numpy as np\\nfrom sklearn.feature_selection import f_classif\\nimport warnings'); }\n",
       "    "
      ],
      "text/plain": [
       "<IPython.core.display.Javascript object>"
      ]
     },
     "metadata": {},
     "output_type": "display_data"
    },
    {
     "data": {
      "application/javascript": [
       "\n",
       "        if (window._pyforest_update_imports_cell) { window._pyforest_update_imports_cell('import ToolFeatures as tf\\nimport ToolProject as tp\\nimport gc\\nimport sweetviz\\nfrom sklearn.feature_selection import SelectKBest\\nimport pandas as pd\\nimport numpy as np\\nfrom sklearn.feature_selection import f_classif\\nimport warnings'); }\n",
       "    "
      ],
      "text/plain": [
       "<IPython.core.display.Javascript object>"
      ]
     },
     "metadata": {},
     "output_type": "display_data"
    },
    {
     "data": {
      "application/javascript": [
       "\n",
       "        if (window._pyforest_update_imports_cell) { window._pyforest_update_imports_cell('import ToolFeatures as tf\\nimport ToolProject as tp\\nimport gc\\nimport sweetviz\\nfrom sklearn.feature_selection import SelectKBest\\nimport pandas as pd\\nimport numpy as np\\nfrom sklearn.feature_selection import f_classif\\nimport warnings'); }\n",
       "    "
      ],
      "text/plain": [
       "<IPython.core.display.Javascript object>"
      ]
     },
     "metadata": {},
     "output_type": "display_data"
    },
    {
     "name": "stdout",
     "output_type": "stream",
     "text": [
      "Training Features shape bureau:  (307511, 718)\n",
      "Testing Features shape bureau:  (48744, 714)\n"
     ]
    }
   ],
   "source": [
    "DATA_FRAME_I[\"df_previous_application_i\"] = DATA_FRAME_I[\"df_previous_application_i\"].drop(columns = \"SK_ID_PREV\")\n",
    "df_train,df_test = aggregate_master(DATA_FRAME_I[\"df_previous_application_i\"],df_train,df_test,  \"SK_ID_CURR\",\"prevapp\")"
   ]
  },
  {
   "cell_type": "markdown",
   "metadata": {},
   "source": [
    "#### table bureau balance"
   ]
  },
  {
   "cell_type": "code",
   "execution_count": 62,
   "metadata": {},
   "outputs": [
    {
     "data": {
      "application/javascript": [
       "\n",
       "        if (window._pyforest_update_imports_cell) { window._pyforest_update_imports_cell('import ToolFeatures as tf\\nimport ToolProject as tp\\nimport gc\\nimport sweetviz\\nfrom sklearn.feature_selection import SelectKBest\\nimport pandas as pd\\nimport numpy as np\\nfrom sklearn.feature_selection import f_classif\\nimport warnings'); }\n",
       "    "
      ],
      "text/plain": [
       "<IPython.core.display.Javascript object>"
      ]
     },
     "metadata": {},
     "output_type": "display_data"
    },
    {
     "data": {
      "application/javascript": [
       "\n",
       "        if (window._pyforest_update_imports_cell) { window._pyforest_update_imports_cell('import ToolFeatures as tf\\nimport ToolProject as tp\\nimport gc\\nimport sweetviz\\nfrom sklearn.feature_selection import SelectKBest\\nimport pandas as pd\\nimport numpy as np\\nfrom sklearn.feature_selection import f_classif\\nimport warnings'); }\n",
       "    "
      ],
      "text/plain": [
       "<IPython.core.display.Javascript object>"
      ]
     },
     "metadata": {},
     "output_type": "display_data"
    },
    {
     "data": {
      "application/javascript": [
       "\n",
       "        if (window._pyforest_update_imports_cell) { window._pyforest_update_imports_cell('import ToolFeatures as tf\\nimport ToolProject as tp\\nimport gc\\nimport sweetviz\\nfrom sklearn.feature_selection import SelectKBest\\nimport pandas as pd\\nimport numpy as np\\nfrom sklearn.feature_selection import f_classif\\nimport warnings'); }\n",
       "    "
      ],
      "text/plain": [
       "<IPython.core.display.Javascript object>"
      ]
     },
     "metadata": {},
     "output_type": "display_data"
    },
    {
     "name": "stdout",
     "output_type": "stream",
     "text": [
      "Training Features shape bureau:  (307511, 809)\n",
      "Testing Features shape bureau:  (48744, 805)\n"
     ]
    }
   ],
   "source": [
    "df_train,df_test = aggregate_child(DATA_FRAME_I[\"df_bureau_balance_i\"],df_train,df_test, [\"SK_ID_BUREAU\", \"SK_ID_CURR\"],[\"balance\", \"client\"])"
   ]
  },
  {
   "cell_type": "markdown",
   "metadata": {},
   "source": [
    "#### table POS_CASH_Balance"
   ]
  },
  {
   "cell_type": "code",
   "execution_count": 63,
   "metadata": {},
   "outputs": [
    {
     "data": {
      "application/javascript": [
       "\n",
       "        if (window._pyforest_update_imports_cell) { window._pyforest_update_imports_cell('import ToolFeatures as tf\\nimport ToolProject as tp\\nimport gc\\nimport sweetviz\\nfrom sklearn.feature_selection import SelectKBest\\nimport pandas as pd\\nimport numpy as np\\nfrom sklearn.feature_selection import f_classif\\nimport warnings'); }\n",
       "    "
      ],
      "text/plain": [
       "<IPython.core.display.Javascript object>"
      ]
     },
     "metadata": {},
     "output_type": "display_data"
    },
    {
     "data": {
      "application/javascript": [
       "\n",
       "        if (window._pyforest_update_imports_cell) { window._pyforest_update_imports_cell('import ToolFeatures as tf\\nimport ToolProject as tp\\nimport gc\\nimport sweetviz\\nfrom sklearn.feature_selection import SelectKBest\\nimport pandas as pd\\nimport numpy as np\\nfrom sklearn.feature_selection import f_classif\\nimport warnings'); }\n",
       "    "
      ],
      "text/plain": [
       "<IPython.core.display.Javascript object>"
      ]
     },
     "metadata": {},
     "output_type": "display_data"
    },
    {
     "data": {
      "application/javascript": [
       "\n",
       "        if (window._pyforest_update_imports_cell) { window._pyforest_update_imports_cell('import ToolFeatures as tf\\nimport ToolProject as tp\\nimport gc\\nimport sweetviz\\nfrom sklearn.feature_selection import SelectKBest\\nimport pandas as pd\\nimport numpy as np\\nfrom sklearn.feature_selection import f_classif\\nimport warnings'); }\n",
       "    "
      ],
      "text/plain": [
       "<IPython.core.display.Javascript object>"
      ]
     },
     "metadata": {},
     "output_type": "display_data"
    },
    {
     "name": "stdout",
     "output_type": "stream",
     "text": [
      "Training Features shape bureau:  (307511, 980)\n",
      "Testing Features shape bureau:  (48744, 976)\n"
     ]
    }
   ],
   "source": [
    "df_train,df_test = aggregate_child(DATA_FRAME_I[\"df_POS_CASH_balance_i\"],df_train,df_test, [\"SK_ID_PREV\", \"SK_ID_CURR\"],[\"cash\", \"client\"])"
   ]
  },
  {
   "cell_type": "markdown",
   "metadata": {},
   "source": [
    "#### table credit_card_Balance"
   ]
  },
  {
   "cell_type": "code",
   "execution_count": 64,
   "metadata": {},
   "outputs": [
    {
     "data": {
      "application/javascript": [
       "\n",
       "        if (window._pyforest_update_imports_cell) { window._pyforest_update_imports_cell('import ToolFeatures as tf\\nimport ToolProject as tp\\nimport gc\\nimport sweetviz\\nfrom sklearn.feature_selection import SelectKBest\\nimport pandas as pd\\nimport numpy as np\\nfrom sklearn.feature_selection import f_classif\\nimport warnings'); }\n",
       "    "
      ],
      "text/plain": [
       "<IPython.core.display.Javascript object>"
      ]
     },
     "metadata": {},
     "output_type": "display_data"
    },
    {
     "data": {
      "application/javascript": [
       "\n",
       "        if (window._pyforest_update_imports_cell) { window._pyforest_update_imports_cell('import ToolFeatures as tf\\nimport ToolProject as tp\\nimport gc\\nimport sweetviz\\nfrom sklearn.feature_selection import SelectKBest\\nimport pandas as pd\\nimport numpy as np\\nfrom sklearn.feature_selection import f_classif\\nimport warnings'); }\n",
       "    "
      ],
      "text/plain": [
       "<IPython.core.display.Javascript object>"
      ]
     },
     "metadata": {},
     "output_type": "display_data"
    },
    {
     "data": {
      "application/javascript": [
       "\n",
       "        if (window._pyforest_update_imports_cell) { window._pyforest_update_imports_cell('import ToolFeatures as tf\\nimport ToolProject as tp\\nimport gc\\nimport sweetviz\\nfrom sklearn.feature_selection import SelectKBest\\nimport pandas as pd\\nimport numpy as np\\nfrom sklearn.feature_selection import f_classif\\nimport warnings'); }\n",
       "    "
      ],
      "text/plain": [
       "<IPython.core.display.Javascript object>"
      ]
     },
     "metadata": {},
     "output_type": "display_data"
    },
    {
     "name": "stdout",
     "output_type": "stream",
     "text": [
      "Training Features shape bureau:  (307511, 1367)\n",
      "Testing Features shape bureau:  (48744, 1363)\n"
     ]
    }
   ],
   "source": [
    "df_train,df_test = aggregate_child(DATA_FRAME_I[\"df_credit_card_balance_i\"],df_train,df_test, [\"SK_ID_PREV\", \"SK_ID_CURR\"],[\"credit\", \"client\"])"
   ]
  },
  {
   "cell_type": "markdown",
   "metadata": {},
   "source": [
    "#### table installments_payments"
   ]
  },
  {
   "cell_type": "code",
   "execution_count": 65,
   "metadata": {},
   "outputs": [
    {
     "data": {
      "application/javascript": [
       "\n",
       "        if (window._pyforest_update_imports_cell) { window._pyforest_update_imports_cell('import ToolFeatures as tf\\nimport ToolProject as tp\\nimport gc\\nimport sweetviz\\nfrom sklearn.feature_selection import SelectKBest\\nimport pandas as pd\\nimport numpy as np\\nfrom sklearn.feature_selection import f_classif\\nimport warnings'); }\n",
       "    "
      ],
      "text/plain": [
       "<IPython.core.display.Javascript object>"
      ]
     },
     "metadata": {},
     "output_type": "display_data"
    },
    {
     "data": {
      "application/javascript": [
       "\n",
       "        if (window._pyforest_update_imports_cell) { window._pyforest_update_imports_cell('import ToolFeatures as tf\\nimport ToolProject as tp\\nimport gc\\nimport sweetviz\\nfrom sklearn.feature_selection import SelectKBest\\nimport pandas as pd\\nimport numpy as np\\nfrom sklearn.feature_selection import f_classif\\nimport warnings'); }\n",
       "    "
      ],
      "text/plain": [
       "<IPython.core.display.Javascript object>"
      ]
     },
     "metadata": {},
     "output_type": "display_data"
    },
    {
     "data": {
      "application/javascript": [
       "\n",
       "        if (window._pyforest_update_imports_cell) { window._pyforest_update_imports_cell('import ToolFeatures as tf\\nimport ToolProject as tp\\nimport gc\\nimport sweetviz\\nfrom sklearn.feature_selection import SelectKBest\\nimport pandas as pd\\nimport numpy as np\\nfrom sklearn.feature_selection import f_classif\\nimport warnings'); }\n",
       "    "
      ],
      "text/plain": [
       "<IPython.core.display.Javascript object>"
      ]
     },
     "metadata": {},
     "output_type": "display_data"
    },
    {
     "name": "stdout",
     "output_type": "stream",
     "text": [
      "Training Features shape bureau:  (307511, 1479)\n",
      "Testing Features shape bureau:  (48744, 1475)\n"
     ]
    }
   ],
   "source": [
    "df_train,df_test = aggregate_child(DATA_FRAME_I[\"df_installments_payments_i\"],df_train,df_test, [\"SK_ID_PREV\", \"SK_ID_CURR\"],[\"installments\", \"client\"])"
   ]
  },
  {
   "cell_type": "markdown",
   "metadata": {},
   "source": [
    "### Alignement données du training et test"
   ]
  },
  {
   "cell_type": "code",
   "execution_count": 66,
   "metadata": {},
   "outputs": [
    {
     "name": "stdout",
     "output_type": "stream",
     "text": [
      "Training Features shape before:  (307511, 1479)\n",
      "Testing Features shape before:  (48744, 1475)\n",
      "Training Features shape after:  (307511, 1476)\n",
      "Testing Features shape after:  (48744, 1475)\n"
     ]
    }
   ],
   "source": [
    "df_train_labels = df_train['TARGET']\n",
    "df_train_keys = df_train['SK_ID_CURR']\n",
    "df_test_keys = df_test['SK_ID_CURR']\n",
    "\n",
    "print('Training Features shape before: ', df_train.shape)\n",
    "print('Testing Features shape before: ', df_test.shape)\n",
    "\n",
    "# Align the training and testing data, keep only columns present in both dataframes\n",
    "df_train, df_test = df_train.align(df_test, join = 'inner', axis = 1)\n",
    "\n",
    "# Add the target back in\n",
    "df_train['TARGET'] = df_train_labels\n",
    "\n",
    "\n",
    "print('Training Features shape after: ', df_train.shape)\n",
    "print('Testing Features shape after: ', df_test.shape)"
   ]
  },
  {
   "cell_type": "markdown",
   "metadata": {},
   "source": [
    "## Sélection des features"
   ]
  },
  {
   "cell_type": "markdown",
   "metadata": {},
   "source": [
    "### suppression des clés "
   ]
  },
  {
   "cell_type": "code",
   "execution_count": 67,
   "metadata": {},
   "outputs": [
    {
     "name": "stdout",
     "output_type": "stream",
     "text": [
      "There are 29 columns that contain SK_ID_CURR\n",
      "There are 0 columns that contain SK_ID_BUREAU\n",
      "There are 0 columns that contain SK_ID_PREV\n",
      "Training shape:  (307511, 1447)\n",
      "Testing shape:  (48744, 1446)\n"
     ]
    }
   ],
   "source": [
    "cols_with_id = [x for x in df_train.columns if 'SK_ID_CURR' in x]\n",
    "cols_with_bureau_id = [x for x in df_train.columns if 'SK_ID_BUREAU' in x]\n",
    "cols_with_previous_id = [x for x in df_train.columns if 'SK_ID_PREV' in x]\n",
    "print('There are %d columns that contain SK_ID_CURR' % len(cols_with_id))\n",
    "print('There are %d columns that contain SK_ID_BUREAU' % len(cols_with_bureau_id))\n",
    "print('There are %d columns that contain SK_ID_PREV' % len(cols_with_previous_id))\n",
    "\n",
    "df_train = df_train.drop(columns = cols_with_id)\n",
    "df_test = df_test.drop(columns = cols_with_id)\n",
    "print('Training shape: ', df_train.shape)\n",
    "print('Testing shape: ', df_test.shape)"
   ]
  },
  {
   "cell_type": "markdown",
   "metadata": {},
   "source": [
    "### suppression des variables avec fortes colinéarités"
   ]
  },
  {
   "cell_type": "code",
   "execution_count": 68,
   "metadata": {},
   "outputs": [
    {
     "data": {
      "text/html": [
       "<div>\n",
       "<style scoped>\n",
       "    .dataframe tbody tr th:only-of-type {\n",
       "        vertical-align: middle;\n",
       "    }\n",
       "\n",
       "    .dataframe tbody tr th {\n",
       "        vertical-align: top;\n",
       "    }\n",
       "\n",
       "    .dataframe thead th {\n",
       "        text-align: right;\n",
       "    }\n",
       "</style>\n",
       "<table border=\"1\" class=\"dataframe\">\n",
       "  <thead>\n",
       "    <tr style=\"text-align: right;\">\n",
       "      <th></th>\n",
       "      <th>CNT_CHILDREN</th>\n",
       "      <th>AMT_INCOME_TOTAL</th>\n",
       "      <th>AMT_CREDIT</th>\n",
       "      <th>AMT_ANNUITY</th>\n",
       "      <th>AMT_GOODS_PRICE</th>\n",
       "      <th>REGION_POPULATION_RELATIVE</th>\n",
       "      <th>OWN_CAR_AGE</th>\n",
       "      <th>FLAG_MOBIL</th>\n",
       "      <th>FLAG_EMP_PHONE</th>\n",
       "      <th>FLAG_WORK_PHONE</th>\n",
       "      <th>...</th>\n",
       "      <th>client_installments_AMT_INSTALMENT_min_sum</th>\n",
       "      <th>client_installments_AMT_PAYMENT_sum_max</th>\n",
       "      <th>client_installments_AMT_INSTALMENT_sum_max</th>\n",
       "      <th>client_installments_AMT_PAYMENT_mean_sum</th>\n",
       "      <th>client_installments_AMT_INSTALMENT_mean_sum</th>\n",
       "      <th>client_installments_AMT_INSTALMENT_max_sum</th>\n",
       "      <th>client_installments_AMT_PAYMENT_max_sum</th>\n",
       "      <th>client_installments_AMT_PAYMENT_sum_sum</th>\n",
       "      <th>client_installments_AMT_INSTALMENT_sum_sum</th>\n",
       "      <th>TARGET</th>\n",
       "    </tr>\n",
       "  </thead>\n",
       "  <tbody>\n",
       "    <tr>\n",
       "      <th>CNT_CHILDREN</th>\n",
       "      <td>1.000000</td>\n",
       "      <td>0.012882</td>\n",
       "      <td>0.002145</td>\n",
       "      <td>0.021374</td>\n",
       "      <td>0.001827</td>\n",
       "      <td>0.025573</td>\n",
       "      <td>0.008494</td>\n",
       "      <td>0.001041</td>\n",
       "      <td>0.240714</td>\n",
       "      <td>0.055630</td>\n",
       "      <td>...</td>\n",
       "      <td>0.055578</td>\n",
       "      <td>0.037900</td>\n",
       "      <td>0.036928</td>\n",
       "      <td>0.052385</td>\n",
       "      <td>0.051826</td>\n",
       "      <td>0.029306</td>\n",
       "      <td>0.029733</td>\n",
       "      <td>0.038164</td>\n",
       "      <td>0.037312</td>\n",
       "      <td>0.019187</td>\n",
       "    </tr>\n",
       "    <tr>\n",
       "      <th>AMT_INCOME_TOTAL</th>\n",
       "      <td>0.012882</td>\n",
       "      <td>1.000000</td>\n",
       "      <td>0.156870</td>\n",
       "      <td>0.191657</td>\n",
       "      <td>0.159610</td>\n",
       "      <td>0.074796</td>\n",
       "      <td>0.117273</td>\n",
       "      <td>0.000325</td>\n",
       "      <td>0.063994</td>\n",
       "      <td>0.017193</td>\n",
       "      <td>...</td>\n",
       "      <td>0.076813</td>\n",
       "      <td>0.093784</td>\n",
       "      <td>0.095496</td>\n",
       "      <td>0.087295</td>\n",
       "      <td>0.086862</td>\n",
       "      <td>0.061524</td>\n",
       "      <td>0.062034</td>\n",
       "      <td>0.057908</td>\n",
       "      <td>0.056323</td>\n",
       "      <td>0.003982</td>\n",
       "    </tr>\n",
       "    <tr>\n",
       "      <th>AMT_CREDIT</th>\n",
       "      <td>0.002145</td>\n",
       "      <td>0.156870</td>\n",
       "      <td>1.000000</td>\n",
       "      <td>0.770138</td>\n",
       "      <td>0.986968</td>\n",
       "      <td>0.099738</td>\n",
       "      <td>0.094191</td>\n",
       "      <td>0.001436</td>\n",
       "      <td>0.065519</td>\n",
       "      <td>0.021085</td>\n",
       "      <td>...</td>\n",
       "      <td>0.127943</td>\n",
       "      <td>0.193658</td>\n",
       "      <td>0.190844</td>\n",
       "      <td>0.169028</td>\n",
       "      <td>0.163415</td>\n",
       "      <td>0.135096</td>\n",
       "      <td>0.135640</td>\n",
       "      <td>0.114184</td>\n",
       "      <td>0.108921</td>\n",
       "      <td>0.030369</td>\n",
       "    </tr>\n",
       "    <tr>\n",
       "      <th>AMT_ANNUITY</th>\n",
       "      <td>0.021374</td>\n",
       "      <td>0.191657</td>\n",
       "      <td>0.770138</td>\n",
       "      <td>1.000000</td>\n",
       "      <td>0.775109</td>\n",
       "      <td>0.118429</td>\n",
       "      <td>0.097057</td>\n",
       "      <td>0.000149</td>\n",
       "      <td>0.103533</td>\n",
       "      <td>0.024803</td>\n",
       "      <td>...</td>\n",
       "      <td>0.150098</td>\n",
       "      <td>0.186438</td>\n",
       "      <td>0.191274</td>\n",
       "      <td>0.162282</td>\n",
       "      <td>0.161845</td>\n",
       "      <td>0.105859</td>\n",
       "      <td>0.106695</td>\n",
       "      <td>0.101156</td>\n",
       "      <td>0.098574</td>\n",
       "      <td>0.012817</td>\n",
       "    </tr>\n",
       "    <tr>\n",
       "      <th>AMT_GOODS_PRICE</th>\n",
       "      <td>0.001827</td>\n",
       "      <td>0.159610</td>\n",
       "      <td>0.986968</td>\n",
       "      <td>0.775109</td>\n",
       "      <td>1.000000</td>\n",
       "      <td>0.103520</td>\n",
       "      <td>0.103733</td>\n",
       "      <td>0.001399</td>\n",
       "      <td>0.063487</td>\n",
       "      <td>0.001086</td>\n",
       "      <td>...</td>\n",
       "      <td>0.128897</td>\n",
       "      <td>0.194547</td>\n",
       "      <td>0.190767</td>\n",
       "      <td>0.169074</td>\n",
       "      <td>0.162804</td>\n",
       "      <td>0.132111</td>\n",
       "      <td>0.132696</td>\n",
       "      <td>0.110015</td>\n",
       "      <td>0.104472</td>\n",
       "      <td>0.039645</td>\n",
       "    </tr>\n",
       "  </tbody>\n",
       "</table>\n",
       "<p>5 rows × 1447 columns</p>\n",
       "</div>"
      ],
      "text/plain": [
       "                  CNT_CHILDREN  AMT_INCOME_TOTAL  AMT_CREDIT  AMT_ANNUITY  \\\n",
       "CNT_CHILDREN          1.000000          0.012882    0.002145     0.021374   \n",
       "AMT_INCOME_TOTAL      0.012882          1.000000    0.156870     0.191657   \n",
       "AMT_CREDIT            0.002145          0.156870    1.000000     0.770138   \n",
       "AMT_ANNUITY           0.021374          0.191657    0.770138     1.000000   \n",
       "AMT_GOODS_PRICE       0.001827          0.159610    0.986968     0.775109   \n",
       "\n",
       "                  AMT_GOODS_PRICE  REGION_POPULATION_RELATIVE  OWN_CAR_AGE  \\\n",
       "CNT_CHILDREN             0.001827                    0.025573     0.008494   \n",
       "AMT_INCOME_TOTAL         0.159610                    0.074796     0.117273   \n",
       "AMT_CREDIT               0.986968                    0.099738     0.094191   \n",
       "AMT_ANNUITY              0.775109                    0.118429     0.097057   \n",
       "AMT_GOODS_PRICE          1.000000                    0.103520     0.103733   \n",
       "\n",
       "                  FLAG_MOBIL  FLAG_EMP_PHONE  FLAG_WORK_PHONE  ...  \\\n",
       "CNT_CHILDREN        0.001041        0.240714         0.055630  ...   \n",
       "AMT_INCOME_TOTAL    0.000325        0.063994         0.017193  ...   \n",
       "AMT_CREDIT          0.001436        0.065519         0.021085  ...   \n",
       "AMT_ANNUITY         0.000149        0.103533         0.024803  ...   \n",
       "AMT_GOODS_PRICE     0.001399        0.063487         0.001086  ...   \n",
       "\n",
       "                  client_installments_AMT_INSTALMENT_min_sum  \\\n",
       "CNT_CHILDREN                                        0.055578   \n",
       "AMT_INCOME_TOTAL                                    0.076813   \n",
       "AMT_CREDIT                                          0.127943   \n",
       "AMT_ANNUITY                                         0.150098   \n",
       "AMT_GOODS_PRICE                                     0.128897   \n",
       "\n",
       "                  client_installments_AMT_PAYMENT_sum_max  \\\n",
       "CNT_CHILDREN                                     0.037900   \n",
       "AMT_INCOME_TOTAL                                 0.093784   \n",
       "AMT_CREDIT                                       0.193658   \n",
       "AMT_ANNUITY                                      0.186438   \n",
       "AMT_GOODS_PRICE                                  0.194547   \n",
       "\n",
       "                  client_installments_AMT_INSTALMENT_sum_max  \\\n",
       "CNT_CHILDREN                                        0.036928   \n",
       "AMT_INCOME_TOTAL                                    0.095496   \n",
       "AMT_CREDIT                                          0.190844   \n",
       "AMT_ANNUITY                                         0.191274   \n",
       "AMT_GOODS_PRICE                                     0.190767   \n",
       "\n",
       "                  client_installments_AMT_PAYMENT_mean_sum  \\\n",
       "CNT_CHILDREN                                      0.052385   \n",
       "AMT_INCOME_TOTAL                                  0.087295   \n",
       "AMT_CREDIT                                        0.169028   \n",
       "AMT_ANNUITY                                       0.162282   \n",
       "AMT_GOODS_PRICE                                   0.169074   \n",
       "\n",
       "                  client_installments_AMT_INSTALMENT_mean_sum  \\\n",
       "CNT_CHILDREN                                         0.051826   \n",
       "AMT_INCOME_TOTAL                                     0.086862   \n",
       "AMT_CREDIT                                           0.163415   \n",
       "AMT_ANNUITY                                          0.161845   \n",
       "AMT_GOODS_PRICE                                      0.162804   \n",
       "\n",
       "                  client_installments_AMT_INSTALMENT_max_sum  \\\n",
       "CNT_CHILDREN                                        0.029306   \n",
       "AMT_INCOME_TOTAL                                    0.061524   \n",
       "AMT_CREDIT                                          0.135096   \n",
       "AMT_ANNUITY                                         0.105859   \n",
       "AMT_GOODS_PRICE                                     0.132111   \n",
       "\n",
       "                  client_installments_AMT_PAYMENT_max_sum  \\\n",
       "CNT_CHILDREN                                     0.029733   \n",
       "AMT_INCOME_TOTAL                                 0.062034   \n",
       "AMT_CREDIT                                       0.135640   \n",
       "AMT_ANNUITY                                      0.106695   \n",
       "AMT_GOODS_PRICE                                  0.132696   \n",
       "\n",
       "                  client_installments_AMT_PAYMENT_sum_sum  \\\n",
       "CNT_CHILDREN                                     0.038164   \n",
       "AMT_INCOME_TOTAL                                 0.057908   \n",
       "AMT_CREDIT                                       0.114184   \n",
       "AMT_ANNUITY                                      0.101156   \n",
       "AMT_GOODS_PRICE                                  0.110015   \n",
       "\n",
       "                  client_installments_AMT_INSTALMENT_sum_sum    TARGET  \n",
       "CNT_CHILDREN                                        0.037312  0.019187  \n",
       "AMT_INCOME_TOTAL                                    0.056323  0.003982  \n",
       "AMT_CREDIT                                          0.108921  0.030369  \n",
       "AMT_ANNUITY                                         0.098574  0.012817  \n",
       "AMT_GOODS_PRICE                                     0.104472  0.039645  \n",
       "\n",
       "[5 rows x 1447 columns]"
      ]
     },
     "execution_count": 68,
     "metadata": {},
     "output_type": "execute_result"
    }
   ],
   "source": [
    "# Threshold for removing correlated variables\n",
    "threshold = 0.9\n",
    "\n",
    "# Absolute value correlation matrix\n",
    "corr_matrix = df_train.corr().abs()\n",
    "corr_matrix.head()"
   ]
  },
  {
   "cell_type": "code",
   "execution_count": 69,
   "metadata": {},
   "outputs": [
    {
     "data": {
      "application/javascript": [
       "\n",
       "        if (window._pyforest_update_imports_cell) { window._pyforest_update_imports_cell('import ToolFeatures as tf\\nimport ToolProject as tp\\nimport gc\\nimport sweetviz\\nfrom sklearn.feature_selection import SelectKBest\\nimport pandas as pd\\nimport numpy as np\\nfrom sklearn.feature_selection import f_classif\\nimport warnings'); }\n",
       "    "
      ],
      "text/plain": [
       "<IPython.core.display.Javascript object>"
      ]
     },
     "metadata": {},
     "output_type": "display_data"
    },
    {
     "data": {
      "application/javascript": [
       "\n",
       "        if (window._pyforest_update_imports_cell) { window._pyforest_update_imports_cell('import ToolFeatures as tf\\nimport ToolProject as tp\\nimport gc\\nimport sweetviz\\nfrom sklearn.feature_selection import SelectKBest\\nimport pandas as pd\\nimport numpy as np\\nfrom sklearn.feature_selection import f_classif\\nimport warnings'); }\n",
       "    "
      ],
      "text/plain": [
       "<IPython.core.display.Javascript object>"
      ]
     },
     "metadata": {},
     "output_type": "display_data"
    },
    {
     "data": {
      "application/javascript": [
       "\n",
       "        if (window._pyforest_update_imports_cell) { window._pyforest_update_imports_cell('import ToolFeatures as tf\\nimport ToolProject as tp\\nimport gc\\nimport sweetviz\\nfrom sklearn.feature_selection import SelectKBest\\nimport pandas as pd\\nimport numpy as np\\nfrom sklearn.feature_selection import f_classif\\nimport warnings'); }\n",
       "    "
      ],
      "text/plain": [
       "<IPython.core.display.Javascript object>"
      ]
     },
     "metadata": {},
     "output_type": "display_data"
    },
    {
     "data": {
      "text/html": [
       "<div>\n",
       "<style scoped>\n",
       "    .dataframe tbody tr th:only-of-type {\n",
       "        vertical-align: middle;\n",
       "    }\n",
       "\n",
       "    .dataframe tbody tr th {\n",
       "        vertical-align: top;\n",
       "    }\n",
       "\n",
       "    .dataframe thead th {\n",
       "        text-align: right;\n",
       "    }\n",
       "</style>\n",
       "<table border=\"1\" class=\"dataframe\">\n",
       "  <thead>\n",
       "    <tr style=\"text-align: right;\">\n",
       "      <th></th>\n",
       "      <th>CNT_CHILDREN</th>\n",
       "      <th>AMT_INCOME_TOTAL</th>\n",
       "      <th>AMT_CREDIT</th>\n",
       "      <th>AMT_ANNUITY</th>\n",
       "      <th>AMT_GOODS_PRICE</th>\n",
       "      <th>REGION_POPULATION_RELATIVE</th>\n",
       "      <th>OWN_CAR_AGE</th>\n",
       "      <th>FLAG_MOBIL</th>\n",
       "      <th>FLAG_EMP_PHONE</th>\n",
       "      <th>FLAG_WORK_PHONE</th>\n",
       "      <th>...</th>\n",
       "      <th>client_installments_AMT_INSTALMENT_min_sum</th>\n",
       "      <th>client_installments_AMT_PAYMENT_sum_max</th>\n",
       "      <th>client_installments_AMT_INSTALMENT_sum_max</th>\n",
       "      <th>client_installments_AMT_PAYMENT_mean_sum</th>\n",
       "      <th>client_installments_AMT_INSTALMENT_mean_sum</th>\n",
       "      <th>client_installments_AMT_INSTALMENT_max_sum</th>\n",
       "      <th>client_installments_AMT_PAYMENT_max_sum</th>\n",
       "      <th>client_installments_AMT_PAYMENT_sum_sum</th>\n",
       "      <th>client_installments_AMT_INSTALMENT_sum_sum</th>\n",
       "      <th>TARGET</th>\n",
       "    </tr>\n",
       "  </thead>\n",
       "  <tbody>\n",
       "    <tr>\n",
       "      <th>CNT_CHILDREN</th>\n",
       "      <td>NaN</td>\n",
       "      <td>0.012882</td>\n",
       "      <td>0.002145</td>\n",
       "      <td>0.021374</td>\n",
       "      <td>0.001827</td>\n",
       "      <td>0.025573</td>\n",
       "      <td>0.008494</td>\n",
       "      <td>0.001041</td>\n",
       "      <td>0.240714</td>\n",
       "      <td>0.055630</td>\n",
       "      <td>...</td>\n",
       "      <td>0.055578</td>\n",
       "      <td>0.037900</td>\n",
       "      <td>0.036928</td>\n",
       "      <td>0.052385</td>\n",
       "      <td>0.051826</td>\n",
       "      <td>0.029306</td>\n",
       "      <td>0.029733</td>\n",
       "      <td>0.038164</td>\n",
       "      <td>0.037312</td>\n",
       "      <td>0.019187</td>\n",
       "    </tr>\n",
       "    <tr>\n",
       "      <th>AMT_INCOME_TOTAL</th>\n",
       "      <td>NaN</td>\n",
       "      <td>NaN</td>\n",
       "      <td>0.156870</td>\n",
       "      <td>0.191657</td>\n",
       "      <td>0.159610</td>\n",
       "      <td>0.074796</td>\n",
       "      <td>0.117273</td>\n",
       "      <td>0.000325</td>\n",
       "      <td>0.063994</td>\n",
       "      <td>0.017193</td>\n",
       "      <td>...</td>\n",
       "      <td>0.076813</td>\n",
       "      <td>0.093784</td>\n",
       "      <td>0.095496</td>\n",
       "      <td>0.087295</td>\n",
       "      <td>0.086862</td>\n",
       "      <td>0.061524</td>\n",
       "      <td>0.062034</td>\n",
       "      <td>0.057908</td>\n",
       "      <td>0.056323</td>\n",
       "      <td>0.003982</td>\n",
       "    </tr>\n",
       "    <tr>\n",
       "      <th>AMT_CREDIT</th>\n",
       "      <td>NaN</td>\n",
       "      <td>NaN</td>\n",
       "      <td>NaN</td>\n",
       "      <td>0.770138</td>\n",
       "      <td>0.986968</td>\n",
       "      <td>0.099738</td>\n",
       "      <td>0.094191</td>\n",
       "      <td>0.001436</td>\n",
       "      <td>0.065519</td>\n",
       "      <td>0.021085</td>\n",
       "      <td>...</td>\n",
       "      <td>0.127943</td>\n",
       "      <td>0.193658</td>\n",
       "      <td>0.190844</td>\n",
       "      <td>0.169028</td>\n",
       "      <td>0.163415</td>\n",
       "      <td>0.135096</td>\n",
       "      <td>0.135640</td>\n",
       "      <td>0.114184</td>\n",
       "      <td>0.108921</td>\n",
       "      <td>0.030369</td>\n",
       "    </tr>\n",
       "    <tr>\n",
       "      <th>AMT_ANNUITY</th>\n",
       "      <td>NaN</td>\n",
       "      <td>NaN</td>\n",
       "      <td>NaN</td>\n",
       "      <td>NaN</td>\n",
       "      <td>0.775109</td>\n",
       "      <td>0.118429</td>\n",
       "      <td>0.097057</td>\n",
       "      <td>0.000149</td>\n",
       "      <td>0.103533</td>\n",
       "      <td>0.024803</td>\n",
       "      <td>...</td>\n",
       "      <td>0.150098</td>\n",
       "      <td>0.186438</td>\n",
       "      <td>0.191274</td>\n",
       "      <td>0.162282</td>\n",
       "      <td>0.161845</td>\n",
       "      <td>0.105859</td>\n",
       "      <td>0.106695</td>\n",
       "      <td>0.101156</td>\n",
       "      <td>0.098574</td>\n",
       "      <td>0.012817</td>\n",
       "    </tr>\n",
       "    <tr>\n",
       "      <th>AMT_GOODS_PRICE</th>\n",
       "      <td>NaN</td>\n",
       "      <td>NaN</td>\n",
       "      <td>NaN</td>\n",
       "      <td>NaN</td>\n",
       "      <td>NaN</td>\n",
       "      <td>0.103520</td>\n",
       "      <td>0.103733</td>\n",
       "      <td>0.001399</td>\n",
       "      <td>0.063487</td>\n",
       "      <td>0.001086</td>\n",
       "      <td>...</td>\n",
       "      <td>0.128897</td>\n",
       "      <td>0.194547</td>\n",
       "      <td>0.190767</td>\n",
       "      <td>0.169074</td>\n",
       "      <td>0.162804</td>\n",
       "      <td>0.132111</td>\n",
       "      <td>0.132696</td>\n",
       "      <td>0.110015</td>\n",
       "      <td>0.104472</td>\n",
       "      <td>0.039645</td>\n",
       "    </tr>\n",
       "  </tbody>\n",
       "</table>\n",
       "<p>5 rows × 1447 columns</p>\n",
       "</div>"
      ],
      "text/plain": [
       "                  CNT_CHILDREN  AMT_INCOME_TOTAL  AMT_CREDIT  AMT_ANNUITY  \\\n",
       "CNT_CHILDREN               NaN          0.012882    0.002145     0.021374   \n",
       "AMT_INCOME_TOTAL           NaN               NaN    0.156870     0.191657   \n",
       "AMT_CREDIT                 NaN               NaN         NaN     0.770138   \n",
       "AMT_ANNUITY                NaN               NaN         NaN          NaN   \n",
       "AMT_GOODS_PRICE            NaN               NaN         NaN          NaN   \n",
       "\n",
       "                  AMT_GOODS_PRICE  REGION_POPULATION_RELATIVE  OWN_CAR_AGE  \\\n",
       "CNT_CHILDREN             0.001827                    0.025573     0.008494   \n",
       "AMT_INCOME_TOTAL         0.159610                    0.074796     0.117273   \n",
       "AMT_CREDIT               0.986968                    0.099738     0.094191   \n",
       "AMT_ANNUITY              0.775109                    0.118429     0.097057   \n",
       "AMT_GOODS_PRICE               NaN                    0.103520     0.103733   \n",
       "\n",
       "                  FLAG_MOBIL  FLAG_EMP_PHONE  FLAG_WORK_PHONE  ...  \\\n",
       "CNT_CHILDREN        0.001041        0.240714         0.055630  ...   \n",
       "AMT_INCOME_TOTAL    0.000325        0.063994         0.017193  ...   \n",
       "AMT_CREDIT          0.001436        0.065519         0.021085  ...   \n",
       "AMT_ANNUITY         0.000149        0.103533         0.024803  ...   \n",
       "AMT_GOODS_PRICE     0.001399        0.063487         0.001086  ...   \n",
       "\n",
       "                  client_installments_AMT_INSTALMENT_min_sum  \\\n",
       "CNT_CHILDREN                                        0.055578   \n",
       "AMT_INCOME_TOTAL                                    0.076813   \n",
       "AMT_CREDIT                                          0.127943   \n",
       "AMT_ANNUITY                                         0.150098   \n",
       "AMT_GOODS_PRICE                                     0.128897   \n",
       "\n",
       "                  client_installments_AMT_PAYMENT_sum_max  \\\n",
       "CNT_CHILDREN                                     0.037900   \n",
       "AMT_INCOME_TOTAL                                 0.093784   \n",
       "AMT_CREDIT                                       0.193658   \n",
       "AMT_ANNUITY                                      0.186438   \n",
       "AMT_GOODS_PRICE                                  0.194547   \n",
       "\n",
       "                  client_installments_AMT_INSTALMENT_sum_max  \\\n",
       "CNT_CHILDREN                                        0.036928   \n",
       "AMT_INCOME_TOTAL                                    0.095496   \n",
       "AMT_CREDIT                                          0.190844   \n",
       "AMT_ANNUITY                                         0.191274   \n",
       "AMT_GOODS_PRICE                                     0.190767   \n",
       "\n",
       "                  client_installments_AMT_PAYMENT_mean_sum  \\\n",
       "CNT_CHILDREN                                      0.052385   \n",
       "AMT_INCOME_TOTAL                                  0.087295   \n",
       "AMT_CREDIT                                        0.169028   \n",
       "AMT_ANNUITY                                       0.162282   \n",
       "AMT_GOODS_PRICE                                   0.169074   \n",
       "\n",
       "                  client_installments_AMT_INSTALMENT_mean_sum  \\\n",
       "CNT_CHILDREN                                         0.051826   \n",
       "AMT_INCOME_TOTAL                                     0.086862   \n",
       "AMT_CREDIT                                           0.163415   \n",
       "AMT_ANNUITY                                          0.161845   \n",
       "AMT_GOODS_PRICE                                      0.162804   \n",
       "\n",
       "                  client_installments_AMT_INSTALMENT_max_sum  \\\n",
       "CNT_CHILDREN                                        0.029306   \n",
       "AMT_INCOME_TOTAL                                    0.061524   \n",
       "AMT_CREDIT                                          0.135096   \n",
       "AMT_ANNUITY                                         0.105859   \n",
       "AMT_GOODS_PRICE                                     0.132111   \n",
       "\n",
       "                  client_installments_AMT_PAYMENT_max_sum  \\\n",
       "CNT_CHILDREN                                     0.029733   \n",
       "AMT_INCOME_TOTAL                                 0.062034   \n",
       "AMT_CREDIT                                       0.135640   \n",
       "AMT_ANNUITY                                      0.106695   \n",
       "AMT_GOODS_PRICE                                  0.132696   \n",
       "\n",
       "                  client_installments_AMT_PAYMENT_sum_sum  \\\n",
       "CNT_CHILDREN                                     0.038164   \n",
       "AMT_INCOME_TOTAL                                 0.057908   \n",
       "AMT_CREDIT                                       0.114184   \n",
       "AMT_ANNUITY                                      0.101156   \n",
       "AMT_GOODS_PRICE                                  0.110015   \n",
       "\n",
       "                  client_installments_AMT_INSTALMENT_sum_sum    TARGET  \n",
       "CNT_CHILDREN                                        0.037312  0.019187  \n",
       "AMT_INCOME_TOTAL                                    0.056323  0.003982  \n",
       "AMT_CREDIT                                          0.108921  0.030369  \n",
       "AMT_ANNUITY                                         0.098574  0.012817  \n",
       "AMT_GOODS_PRICE                                     0.104472  0.039645  \n",
       "\n",
       "[5 rows x 1447 columns]"
      ]
     },
     "execution_count": 69,
     "metadata": {},
     "output_type": "execute_result"
    }
   ],
   "source": [
    "# Upper triangle of correlations\n",
    "upper = corr_matrix.where(np.triu(np.ones(corr_matrix.shape), k=1).astype(np.bool))\n",
    "upper.head()"
   ]
  },
  {
   "cell_type": "code",
   "execution_count": 70,
   "metadata": {},
   "outputs": [
    {
     "name": "stdout",
     "output_type": "stream",
     "text": [
      "There are 596 columns to remove.\n"
     ]
    }
   ],
   "source": [
    "# Select columns with correlations above threshold\n",
    "to_drop = [column for column in upper.columns if any(upper[column] > threshold)]\n",
    "\n",
    "print('There are %d columns to remove.' % (len(to_drop)))"
   ]
  },
  {
   "cell_type": "code",
   "execution_count": 71,
   "metadata": {},
   "outputs": [
    {
     "name": "stdout",
     "output_type": "stream",
     "text": [
      "Training shape:  (307511, 851)\n",
      "Testing shape:  (48744, 850)\n"
     ]
    }
   ],
   "source": [
    "df_train = df_train.drop(columns = to_drop)\n",
    "df_test = df_test.drop(columns = to_drop)\n",
    "\n",
    "print('Training shape: ', df_train.shape)\n",
    "print('Testing shape: ', df_test.shape)"
   ]
  },
  {
   "cell_type": "markdown",
   "metadata": {},
   "source": [
    "### Suppression des features avec un fort pourcentage de valeurs manquantes"
   ]
  },
  {
   "cell_type": "code",
   "execution_count": 72,
   "metadata": {},
   "outputs": [
    {
     "data": {
      "application/javascript": [
       "\n",
       "        if (window._pyforest_update_imports_cell) { window._pyforest_update_imports_cell('import ToolFeatures as tf\\nimport ToolProject as tp\\nimport gc\\nimport sweetviz\\nfrom sklearn.feature_selection import SelectKBest\\nimport pandas as pd\\nimport numpy as np\\nfrom sklearn.feature_selection import f_classif\\nimport warnings'); }\n",
       "    "
      ],
      "text/plain": [
       "<IPython.core.display.Javascript object>"
      ]
     },
     "metadata": {},
     "output_type": "display_data"
    },
    {
     "name": "stdout",
     "output_type": "stream",
     "text": [
      "Your selected dataframe has 851 columns.\n",
      "There are 679 columns that have missing values.\n"
     ]
    }
   ],
   "source": [
    "df_missing_values = tf.missing_values_table(df_train, True)"
   ]
  },
  {
   "cell_type": "code",
   "execution_count": 73,
   "metadata": {},
   "outputs": [
    {
     "data": {
      "application/javascript": [
       "\n",
       "        if (window._pyforest_update_imports_cell) { window._pyforest_update_imports_cell('import ToolFeatures as tf\\nimport ToolProject as tp\\nimport gc\\nimport sweetviz\\nfrom sklearn.feature_selection import SelectKBest\\nimport pandas as pd\\nimport numpy as np\\nfrom sklearn.feature_selection import f_classif\\nimport warnings'); }\n",
       "    "
      ],
      "text/plain": [
       "<IPython.core.display.Javascript object>"
      ]
     },
     "metadata": {},
     "output_type": "display_data"
    },
    {
     "data": {
      "image/png": "[encoded data removed]",
      "text/plain": [
       "<Figure size 600x400 with 1 Axes>"
      ]
     },
     "metadata": {},
     "output_type": "display_data"
    },
    {
     "data": {
      "image/png": "[encoded data removed]",
      "text/plain": [
       "<Figure size 600x400 with 1 Axes>"
      ]
     },
     "metadata": {},
     "output_type": "display_data"
    },
    {
     "data": {
      "text/html": [
       "<div>\n",
       "<style scoped>\n",
       "    .dataframe tbody tr th:only-of-type {\n",
       "        vertical-align: middle;\n",
       "    }\n",
       "\n",
       "    .dataframe tbody tr th {\n",
       "        vertical-align: top;\n",
       "    }\n",
       "\n",
       "    .dataframe thead th {\n",
       "        text-align: right;\n",
       "    }\n",
       "</style>\n",
       "<table border=\"1\" class=\"dataframe\">\n",
       "  <thead>\n",
       "    <tr style=\"text-align: right;\">\n",
       "      <th></th>\n",
       "      <th>Missing Values</th>\n",
       "      <th>% of Total Values</th>\n",
       "    </tr>\n",
       "  </thead>\n",
       "  <tbody>\n",
       "    <tr>\n",
       "      <th>count</th>\n",
       "      <td>679.000000</td>\n",
       "      <td>679.000000</td>\n",
       "    </tr>\n",
       "    <tr>\n",
       "      <th>mean</th>\n",
       "      <td>70413.901325</td>\n",
       "      <td>22.916642</td>\n",
       "    </tr>\n",
       "    <tr>\n",
       "      <th>std</th>\n",
       "      <td>85914.168247</td>\n",
       "      <td>27.913759</td>\n",
       "    </tr>\n",
       "    <tr>\n",
       "      <th>min</th>\n",
       "      <td>1.000000</td>\n",
       "      <td>0.000000</td>\n",
       "    </tr>\n",
       "    <tr>\n",
       "      <th>5%</th>\n",
       "      <td>15868.000000</td>\n",
       "      <td>5.200000</td>\n",
       "    </tr>\n",
       "    <tr>\n",
       "      <th>10%</th>\n",
       "      <td>16454.000000</td>\n",
       "      <td>5.400000</td>\n",
       "    </tr>\n",
       "    <tr>\n",
       "      <th>20%</th>\n",
       "      <td>16454.000000</td>\n",
       "      <td>5.400000</td>\n",
       "    </tr>\n",
       "    <tr>\n",
       "      <th>25%</th>\n",
       "      <td>16454.000000</td>\n",
       "      <td>5.400000</td>\n",
       "    </tr>\n",
       "    <tr>\n",
       "      <th>50%</th>\n",
       "      <td>17751.000000</td>\n",
       "      <td>5.800000</td>\n",
       "    </tr>\n",
       "    <tr>\n",
       "      <th>60%</th>\n",
       "      <td>18067.000000</td>\n",
       "      <td>5.900000</td>\n",
       "    </tr>\n",
       "    <tr>\n",
       "      <th>75%</th>\n",
       "      <td>77156.000000</td>\n",
       "      <td>25.100000</td>\n",
       "    </tr>\n",
       "    <tr>\n",
       "      <th>80%</th>\n",
       "      <td>215280.000000</td>\n",
       "      <td>70.000000</td>\n",
       "    </tr>\n",
       "    <tr>\n",
       "      <th>90%</th>\n",
       "      <td>220606.000000</td>\n",
       "      <td>71.700000</td>\n",
       "    </tr>\n",
       "    <tr>\n",
       "      <th>max</th>\n",
       "      <td>302902.000000</td>\n",
       "      <td>98.500000</td>\n",
       "    </tr>\n",
       "  </tbody>\n",
       "</table>\n",
       "</div>"
      ],
      "text/plain": [
       "       Missing Values  % of Total Values\n",
       "count      679.000000         679.000000\n",
       "mean     70413.901325          22.916642\n",
       "std      85914.168247          27.913759\n",
       "min          1.000000           0.000000\n",
       "5%       15868.000000           5.200000\n",
       "10%      16454.000000           5.400000\n",
       "20%      16454.000000           5.400000\n",
       "25%      16454.000000           5.400000\n",
       "50%      17751.000000           5.800000\n",
       "60%      18067.000000           5.900000\n",
       "75%      77156.000000          25.100000\n",
       "80%     215280.000000          70.000000\n",
       "90%     220606.000000          71.700000\n",
       "max     302902.000000          98.500000"
      ]
     },
     "execution_count": 73,
     "metadata": {},
     "output_type": "execute_result"
    }
   ],
   "source": [
    "tp.analysis_outliers(df_missing_values, [\"Missing Values\",\"% of Total Values\"])"
   ]
  },
  {
   "cell_type": "code",
   "execution_count": 74,
   "metadata": {},
   "outputs": [
    {
     "data": {
      "application/javascript": [
       "\n",
       "        if (window._pyforest_update_imports_cell) { window._pyforest_update_imports_cell('import ToolFeatures as tf\\nimport ToolProject as tp\\nimport gc\\nimport sweetviz\\nfrom sklearn.feature_selection import SelectKBest\\nimport pandas as pd\\nimport numpy as np\\nfrom sklearn.feature_selection import f_classif\\nimport warnings'); }\n",
       "    "
      ],
      "text/plain": [
       "<IPython.core.display.Javascript object>"
      ]
     },
     "metadata": {},
     "output_type": "display_data"
    },
    {
     "name": "stdout",
     "output_type": "stream",
     "text": [
      "There are 172 columns with greater than 25% missing values.\n",
      "Training set full shape:  (307511, 679)\n",
      "Testing set full shape:  (48744, 678)\n"
     ]
    }
   ],
   "source": [
    "seuil = 25\n",
    "df_train, df_test = tf.remove_missing_columns(df_train, df_test, seuil)\n",
    "print('Training set full shape: ', df_train.shape)\n",
    "print('Testing set full shape: ' , df_test.shape)"
   ]
  },
  {
   "cell_type": "code",
   "execution_count": 75,
   "metadata": {},
   "outputs": [
    {
     "name": "stdout",
     "output_type": "stream",
     "text": [
      "Training set full shape:  (307511, 678)\n",
      "Testing set full shape:  (48744, 678)\n"
     ]
    }
   ],
   "source": [
    "df_train, df_test = df_train.align(df_test, join = 'inner', axis = 1)\n",
    "\n",
    "print('Training set full shape: ', df_train.shape)\n",
    "print('Testing set full shape: ' , df_test.shape)"
   ]
  },
  {
   "cell_type": "code",
   "execution_count": 35,
   "metadata": {},
   "outputs": [],
   "source": [
    "df_train.to_csv('df_train_save.csv', index = False)\n",
    "df_test.to_csv('df_test_save.csv', index = False)"
   ]
  },
  {
   "cell_type": "markdown",
   "metadata": {},
   "source": [
    "### Calcul de l'importance des features (méthode kbest)"
   ]
  },
  {
   "cell_type": "code",
   "execution_count": 76,
   "metadata": {},
   "outputs": [],
   "source": [
    "df_train.fillna(0, inplace = True)\n",
    "df_test.fillna(0, inplace = True)"
   ]
  },
  {
   "cell_type": "code",
   "execution_count": 143,
   "metadata": {},
   "outputs": [],
   "source": [
    "df_train = df_train.drop(columns = [\"client_cash_NAME_CONTRACT_STATUS_XNA_mean_min\"])\n",
    "df_test = df_test.drop(columns = [\"client_cash_NAME_CONTRACT_STATUS_XNA_mean_min\"])"
   ]
  },
  {
   "cell_type": "code",
   "execution_count": 115,
   "metadata": {},
   "outputs": [
    {
     "name": "stdout",
     "output_type": "stream",
     "text": [
      "        prevapp_NAME_CASH_LOAN_PURPOSE_Refusal to name the goal_mean  \\\n",
      "0                                                     0.0              \n",
      "1                                                     0.0              \n",
      "2                                                     0.0              \n",
      "3                                                     0.0              \n",
      "4                                                     0.0              \n",
      "...                                                   ...              \n",
      "307506                                                0.0              \n",
      "307507                                                0.0              \n",
      "307508                                                0.0              \n",
      "307509                                                0.0              \n",
      "307510                                                0.0              \n",
      "\n",
      "        prevapp_NAME_CASH_LOAN_PURPOSE_Refusal to name the goal_sum  \\\n",
      "0                                                     0.0             \n",
      "1                                                     0.0             \n",
      "2                                                     0.0             \n",
      "3                                                     0.0             \n",
      "4                                                     0.0             \n",
      "...                                                   ...             \n",
      "307506                                                0.0             \n",
      "307507                                                0.0             \n",
      "307508                                                0.0             \n",
      "307509                                                0.0             \n",
      "307510                                                0.0             \n",
      "\n",
      "        prevapp_NAME_CASH_LOAN_PURPOSE_Money for a third person_mean  \\\n",
      "0                                                     0.0              \n",
      "1                                                     0.0              \n",
      "2                                                     0.0              \n",
      "3                                                     0.0              \n",
      "4                                                     0.0              \n",
      "...                                                   ...              \n",
      "307506                                                0.0              \n",
      "307507                                                0.0              \n",
      "307508                                                0.0              \n",
      "307509                                                0.0              \n",
      "307510                                                0.0              \n",
      "\n",
      "        prevapp_NAME_CASH_LOAN_PURPOSE_Money for a third person_sum  \\\n",
      "0                                                     0.0             \n",
      "1                                                     0.0             \n",
      "2                                                     0.0             \n",
      "3                                                     0.0             \n",
      "4                                                     0.0             \n",
      "...                                                   ...             \n",
      "307506                                                0.0             \n",
      "307507                                                0.0             \n",
      "307508                                                0.0             \n",
      "307509                                                0.0             \n",
      "307510                                                0.0             \n",
      "\n",
      "        prevapp_NAME_CASH_LOAN_PURPOSE_Hobby_mean  \\\n",
      "0                                             0.0   \n",
      "1                                             0.0   \n",
      "2                                             0.0   \n",
      "3                                             0.0   \n",
      "4                                             0.0   \n",
      "...                                           ...   \n",
      "307506                                        0.0   \n",
      "307507                                        0.0   \n",
      "307508                                        0.0   \n",
      "307509                                        0.0   \n",
      "307510                                        0.0   \n",
      "\n",
      "        prevapp_NAME_CASH_LOAN_PURPOSE_Hobby_sum  \\\n",
      "0                                            0.0   \n",
      "1                                            0.0   \n",
      "2                                            0.0   \n",
      "3                                            0.0   \n",
      "4                                            0.0   \n",
      "...                                          ...   \n",
      "307506                                       0.0   \n",
      "307507                                       0.0   \n",
      "307508                                       0.0   \n",
      "307509                                       0.0   \n",
      "307510                                       0.0   \n",
      "\n",
      "        prevapp_NAME_GOODS_CATEGORY_Education_mean  \\\n",
      "0                                              0.0   \n",
      "1                                              0.0   \n",
      "2                                              0.0   \n",
      "3                                              0.0   \n",
      "4                                              0.0   \n",
      "...                                            ...   \n",
      "307506                                         0.0   \n",
      "307507                                         0.0   \n",
      "307508                                         0.0   \n",
      "307509                                         0.0   \n",
      "307510                                         0.0   \n",
      "\n",
      "        prevapp_NAME_GOODS_CATEGORY_Education_sum  \\\n",
      "0                                             0.0   \n",
      "1                                             0.0   \n",
      "2                                             0.0   \n",
      "3                                             0.0   \n",
      "4                                             0.0   \n",
      "...                                           ...   \n",
      "307506                                        0.0   \n",
      "307507                                        0.0   \n",
      "307508                                        0.0   \n",
      "307509                                        0.0   \n",
      "307510                                        0.0   \n",
      "\n",
      "        prevapp_NAME_GOODS_CATEGORY_Additional Service_mean  \\\n",
      "0                                                     0.0     \n",
      "1                                                     0.0     \n",
      "2                                                     0.0     \n",
      "3                                                     0.0     \n",
      "4                                                     0.0     \n",
      "...                                                   ...     \n",
      "307506                                                0.0     \n",
      "307507                                                0.0     \n",
      "307508                                                0.0     \n",
      "307509                                                0.0     \n",
      "307510                                                0.0     \n",
      "\n",
      "        prevapp_NAME_GOODS_CATEGORY_Additional Service_sum  ...  \\\n",
      "0                                                     0.0   ...   \n",
      "1                                                     0.0   ...   \n",
      "2                                                     0.0   ...   \n",
      "3                                                     0.0   ...   \n",
      "4                                                     0.0   ...   \n",
      "...                                                   ...   ...   \n",
      "307506                                                0.0   ...   \n",
      "307507                                                0.0   ...   \n",
      "307508                                                0.0   ...   \n",
      "307509                                                0.0   ...   \n",
      "307510                                                0.0   ...   \n",
      "\n",
      "        client_installments_AMT_INSTALMENT_max_mean  \\\n",
      "0                                      53093.746094   \n",
      "1                                     175764.046875   \n",
      "2                                      10573.964844   \n",
      "3                                      66116.265625   \n",
      "4                                      12677.324219   \n",
      "...                                             ...   \n",
      "307506                                 12815.009766   \n",
      "307507                                 10074.464844   \n",
      "307508                                  4404.410156   \n",
      "307509                                 10239.832031   \n",
      "307510                                326453.437500   \n",
      "\n",
      "        client_installments_AMT_PAYMENT_sum_min  \\\n",
      "0                                 219625.703125   \n",
      "1                                  80773.382812   \n",
      "2                                  21288.464844   \n",
      "3                                  25091.324219   \n",
      "4                                  18330.390625   \n",
      "...                                         ...   \n",
      "307506                             52450.468750   \n",
      "307507                             60419.203125   \n",
      "307508                              8317.889648   \n",
      "307509                             22964.398438   \n",
      "307510                             65783.343750   \n",
      "\n",
      "        client_installments_AMT_INSTALMENT_max_max  \\\n",
      "0                                     53093.746094   \n",
      "1                                    560835.375000   \n",
      "2                                     10573.964844   \n",
      "3                                    691786.875000   \n",
      "4                                     22678.785156   \n",
      "...                                            ...   \n",
      "307506                                12815.009766   \n",
      "307507                                10074.464844   \n",
      "307508                                 5575.185059   \n",
      "307509                                19065.824219   \n",
      "307510                               615229.500000   \n",
      "\n",
      "        client_installments_AMT_PAYMENT_sum_mean  \\\n",
      "0                                   2.196257e+05   \n",
      "1                                   4.539522e+05   \n",
      "2                                   2.128846e+04   \n",
      "3                                   2.324997e+05   \n",
      "4                                   1.726699e+05   \n",
      "...                                          ...   \n",
      "307506                              5.245047e+04   \n",
      "307507                              6.041920e+04   \n",
      "307508                              2.177800e+04   \n",
      "307509                              9.336715e+04   \n",
      "307510                              1.099335e+06   \n",
      "\n",
      "        client_installments_AMT_PAYMENT_min_sum  \\\n",
      "0                                  1.757837e+05   \n",
      "1                                  1.154108e+06   \n",
      "2                                  1.607175e+04   \n",
      "3                                  9.944767e+05   \n",
      "4                                  4.837564e+05   \n",
      "...                                         ...   \n",
      "307506                             4.624137e+04   \n",
      "307507                             6.028128e+04   \n",
      "307508                             4.180599e+04   \n",
      "307509                             1.945568e+05   \n",
      "307510                             1.716123e+05   \n",
      "\n",
      "        client_installments_AMT_INSTALMENT_min_sum  \\\n",
      "0                                     1.757837e+05   \n",
      "1                                     1.154108e+06   \n",
      "2                                     1.607175e+04   \n",
      "3                                     9.944767e+05   \n",
      "4                                     8.258458e+05   \n",
      "...                                            ...   \n",
      "307506                                4.624137e+04   \n",
      "307507                                6.028128e+04   \n",
      "307508                                6.152904e+04   \n",
      "307509                                1.945568e+05   \n",
      "307510                                1.646201e+06   \n",
      "\n",
      "        client_installments_AMT_PAYMENT_sum_max  \\\n",
      "0                                  2.196257e+05   \n",
      "1                                  1.150977e+06   \n",
      "2                                  2.128846e+04   \n",
      "3                                  6.917869e+05   \n",
      "4                                  2.801997e+05   \n",
      "...                                         ...   \n",
      "307506                             5.245047e+04   \n",
      "307507                             6.041920e+04   \n",
      "307508                             3.341376e+04   \n",
      "307509                             1.715924e+05   \n",
      "307510                             2.251554e+06   \n",
      "\n",
      "        client_installments_AMT_PAYMENT_mean_sum  \\\n",
      "0                                   2.196257e+05   \n",
      "1                                   1.618865e+06   \n",
      "2                                   2.128846e+04   \n",
      "3                                   1.007153e+06   \n",
      "4                                   8.061279e+05   \n",
      "...                                          ...   \n",
      "307506                              5.245047e+04   \n",
      "307507                              6.041920e+04   \n",
      "307508                              5.762281e+04   \n",
      "307509                              1.945568e+05   \n",
      "307510                              3.525820e+06   \n",
      "\n",
      "        client_installments_AMT_INSTALMENT_max_sum  \\\n",
      "0                                     1.008781e+06   \n",
      "1                                     4.394102e+06   \n",
      "2                                     3.172189e+04   \n",
      "3                                     1.057860e+06   \n",
      "4                                     8.367034e+05   \n",
      "...                                            ...   \n",
      "307506                                8.970507e+04   \n",
      "307507                                6.044679e+04   \n",
      "307508                                6.166175e+04   \n",
      "307509                                1.945568e+05   \n",
      "307510                                2.415755e+07   \n",
      "\n",
      "        client_installments_AMT_PAYMENT_sum_sum  \n",
      "0                                  4.172888e+06  \n",
      "1                                  1.134881e+07  \n",
      "2                                  6.386539e+04  \n",
      "3                                  3.719995e+06  \n",
      "4                                  1.139621e+07  \n",
      "...                                         ...  \n",
      "307506                             3.671533e+05  \n",
      "307507                             3.625152e+05  \n",
      "307508                             3.048920e+05  \n",
      "307509                             1.773976e+06  \n",
      "307510                             8.135078e+07  \n",
      "\n",
      "[307511 rows x 363 columns]\n"
     ]
    }
   ],
   "source": [
    "print(df_train.iloc[:,314:677])"
   ]
  },
  {
   "cell_type": "code",
   "execution_count": 142,
   "metadata": {},
   "outputs": [
    {
     "data": {
      "text/html": [
       "<div>\n",
       "<style scoped>\n",
       "    .dataframe tbody tr th:only-of-type {\n",
       "        vertical-align: middle;\n",
       "    }\n",
       "\n",
       "    .dataframe tbody tr th {\n",
       "        vertical-align: top;\n",
       "    }\n",
       "\n",
       "    .dataframe thead th {\n",
       "        text-align: right;\n",
       "    }\n",
       "</style>\n",
       "<table border=\"1\" class=\"dataframe\">\n",
       "  <thead>\n",
       "    <tr style=\"text-align: right;\">\n",
       "      <th></th>\n",
       "      <th>client_cash_NAME_CONTRACT_STATUS_XNA_mean_min</th>\n",
       "    </tr>\n",
       "  </thead>\n",
       "  <tbody>\n",
       "    <tr>\n",
       "      <th>count</th>\n",
       "      <td>307511.0</td>\n",
       "    </tr>\n",
       "    <tr>\n",
       "      <th>mean</th>\n",
       "      <td>0.0</td>\n",
       "    </tr>\n",
       "    <tr>\n",
       "      <th>std</th>\n",
       "      <td>0.0</td>\n",
       "    </tr>\n",
       "    <tr>\n",
       "      <th>min</th>\n",
       "      <td>0.0</td>\n",
       "    </tr>\n",
       "    <tr>\n",
       "      <th>25%</th>\n",
       "      <td>0.0</td>\n",
       "    </tr>\n",
       "    <tr>\n",
       "      <th>50%</th>\n",
       "      <td>0.0</td>\n",
       "    </tr>\n",
       "    <tr>\n",
       "      <th>75%</th>\n",
       "      <td>0.0</td>\n",
       "    </tr>\n",
       "    <tr>\n",
       "      <th>max</th>\n",
       "      <td>0.0</td>\n",
       "    </tr>\n",
       "  </tbody>\n",
       "</table>\n",
       "</div>"
      ],
      "text/plain": [
       "       client_cash_NAME_CONTRACT_STATUS_XNA_mean_min\n",
       "count                                       307511.0\n",
       "mean                                             0.0\n",
       "std                                              0.0\n",
       "min                                              0.0\n",
       "25%                                              0.0\n",
       "50%                                              0.0\n",
       "75%                                              0.0\n",
       "max                                              0.0"
      ]
     },
     "execution_count": 142,
     "metadata": {},
     "output_type": "execute_result"
    }
   ],
   "source": [
    "df_train.iloc[:,572:573].describe()"
   ]
  },
  {
   "cell_type": "code",
   "execution_count": 148,
   "metadata": {},
   "outputs": [
    {
     "data": {
      "application/javascript": [
       "\n",
       "        if (window._pyforest_update_imports_cell) { window._pyforest_update_imports_cell('import ToolFeatures as tf\\nimport ToolProject as tp\\nimport gc\\nimport sweetviz\\nfrom sklearn.feature_selection import SelectKBest\\nimport pandas as pd\\nimport numpy as np\\nfrom sklearn.feature_selection import f_classif\\nimport warnings'); }\n",
       "    "
      ],
      "text/plain": [
       "<IPython.core.display.Javascript object>"
      ]
     },
     "metadata": {},
     "output_type": "display_data"
    },
    {
     "data": {
      "application/javascript": [
       "\n",
       "        if (window._pyforest_update_imports_cell) { window._pyforest_update_imports_cell('import ToolFeatures as tf\\nimport ToolProject as tp\\nimport gc\\nimport sweetviz\\nfrom sklearn.feature_selection import SelectKBest\\nimport pandas as pd\\nimport numpy as np\\nfrom sklearn.feature_selection import f_classif\\nimport warnings'); }\n",
       "    "
      ],
      "text/plain": [
       "<IPython.core.display.Javascript object>"
      ]
     },
     "metadata": {},
     "output_type": "display_data"
    },
    {
     "data": {
      "application/javascript": [
       "\n",
       "        if (window._pyforest_update_imports_cell) { window._pyforest_update_imports_cell('import ToolFeatures as tf\\nimport ToolProject as tp\\nimport gc\\nimport sweetviz\\nfrom sklearn.feature_selection import SelectKBest\\nimport pandas as pd\\nimport numpy as np\\nfrom sklearn.feature_selection import f_classif\\nimport warnings'); }\n",
       "    "
      ],
      "text/plain": [
       "<IPython.core.display.Javascript object>"
      ]
     },
     "metadata": {},
     "output_type": "display_data"
    },
    {
     "data": {
      "application/javascript": [
       "\n",
       "        if (window._pyforest_update_imports_cell) { window._pyforest_update_imports_cell('import ToolFeatures as tf\\nimport ToolProject as tp\\nimport gc\\nimport sweetviz\\nfrom sklearn.feature_selection import SelectKBest\\nimport pandas as pd\\nimport numpy as np\\nfrom sklearn.feature_selection import f_classif\\nimport warnings'); }\n",
       "    "
      ],
      "text/plain": [
       "<IPython.core.display.Javascript object>"
      ]
     },
     "metadata": {},
     "output_type": "display_data"
    }
   ],
   "source": [
    "# instantiate SelectKBest to determine 20 best features\n",
    "best_features = SelectKBest(score_func=f_classif, k=15)\n",
    "#fit = best_features.fit(df_train.iloc[:,0:313],df_train_labels)\n",
    "fit = best_features.fit(df_train,df_train_labels)\n",
    "df_scores = pd.DataFrame(fit.scores_)\n",
    "df_columns = pd.DataFrame(df_train.columns)"
   ]
  },
  {
   "cell_type": "code",
   "execution_count": 149,
   "metadata": {},
   "outputs": [
    {
     "data": {
      "application/javascript": [
       "\n",
       "        if (window._pyforest_update_imports_cell) { window._pyforest_update_imports_cell('import ToolFeatures as tf\\nimport ToolProject as tp\\nimport gc\\nimport sweetviz\\nfrom sklearn.feature_selection import SelectKBest\\nimport pandas as pd\\nimport numpy as np\\nfrom sklearn.feature_selection import f_classif\\nimport warnings'); }\n",
       "    "
      ],
      "text/plain": [
       "<IPython.core.display.Javascript object>"
      ]
     },
     "metadata": {},
     "output_type": "display_data"
    },
    {
     "name": "stdout",
     "output_type": "stream",
     "text": [
      "                                          Feature_Name        Score\n",
      "20                                        EXT_SOURCE_2  7978.825300\n",
      "21                                        EXT_SOURCE_3  4460.365182\n",
      "189                            bureau_DAYS_CREDIT_mean  2183.127128\n",
      "51                                         YEARS_BIRTH  1893.976087\n",
      "474          prevapp_NAME_CONTRACT_STATUS_Refused_mean  1877.185302\n",
      "187                             bureau_DAYS_CREDIT_min  1641.561658\n",
      "191                     bureau_DAYS_CREDIT_UPDATE_mean  1500.615159\n",
      "484           prevapp_NAME_CONTRACT_STATUS_Refused_sum  1294.907192\n",
      "466              prevapp_NAME_PRODUCT_TYPE_walk-in_sum  1217.002160\n",
      "12                                REGION_RATING_CLIENT  1070.491250\n",
      "461             prevapp_NAME_PRODUCT_TYPE_walk-in_mean  1031.135909\n",
      "72                            NAME_INCOME_TYPE_Working  1019.404570\n",
      "74                NAME_EDUCATION_TYPE_Higher education   988.031888\n",
      "398               prevapp_CODE_REJECT_REASON_SCOFR_sum   954.323748\n",
      "397              prevapp_CODE_REJECT_REASON_SCOFR_mean   941.461178\n",
      "55                             YEARS_LAST_PHONE_CHANGE   940.444673\n",
      "427                 prevapp_CODE_REJECT_REASON_HC_mean   933.941059\n",
      "57                                       CODE_GENDER_F   922.993051\n",
      "669            client_installments_AMT_PAYMENT_min_sum   884.478968\n",
      "192                             bureau_DAYS_CREDIT_max   857.710257\n",
      "54                                    YEARS_ID_PUBLISH   816.396507\n",
      "18                              REG_CITY_NOT_WORK_CITY   801.742167\n",
      "77   NAME_EDUCATION_TYPE_Secondary / secondary special   765.261307\n",
      "257                   bureau_CREDIT_ACTIVE_Active_mean   731.227004\n",
      "538                   prevapp_NAME_CLIENT_TYPE_New_sum   731.042202\n",
      "479        prevapp_PRODUCT_COMBINATION_Card Street_sum   726.455506\n",
      "190                      bureau_DAYS_CREDIT_UPDATE_min   696.786558\n",
      "428                  prevapp_CODE_REJECT_REASON_HC_sum   695.027317\n",
      "186                             bureau_DAYS_CREDIT_sum   674.358595\n",
      "489     prevapp_NAME_CONTRACT_TYPE_Revolving loans_sum   670.280157\n",
      "213                     bureau_DAYS_CREDIT_ENDDATE_sum   658.838275\n",
      "52                                      YEARS_EMPLOYED   653.553310\n",
      "6                                       FLAG_EMP_PHONE   651.563766\n",
      "493                  prevapp_NAME_YIELD_GROUP_XNA_mean   622.042417\n",
      "17                              REG_CITY_NOT_LIVE_CITY   607.281571\n",
      "26                                     FLAG_DOCUMENT_3   605.938369\n",
      "259                    bureau_CREDIT_ACTIVE_Active_sum   584.833855\n",
      "97                            OCCUPATION_TYPE_Laborers   570.140650\n",
      "486                   prevapp_NAME_PORTFOLIO_Cards_sum   562.111758\n",
      "53                                  YEARS_REGISTRATION   542.753029\n",
      "563         prevapp_NAME_CONTRACT_STATUS_Approved_mean   536.579352\n",
      "261                          prevapp_DAYS_DECISION_min   526.743616\n",
      "469       prevapp_PRODUCT_COMBINATION_Card Street_mean   518.496801\n",
      "483               prevapp_CODE_REJECT_REASON_LIMIT_sum   509.888240\n",
      "175                      HOUSETYPE_MODE_block of flats   507.570912\n",
      "619         client_cash_CNT_INSTALMENT_FUTURE_mean_min   501.303013\n",
      "473              prevapp_CODE_REJECT_REASON_LIMIT_mean   495.501515\n",
      "212                    bureau_DAYS_CREDIT_ENDDATE_mean   488.175344\n",
      "547                 prevapp_NAME_YIELD_GROUP_high_mean   482.328127\n",
      "249                  bureau_CREDIT_TYPE_Microloan_mean   474.337016\n"
     ]
    }
   ],
   "source": [
    "# concatenate dataframes\n",
    "feature_scores = pd.concat([df_columns, df_scores],axis=1)\n",
    "feature_scores.columns = ['Feature_Name','Score']  # name output columns\n",
    "print(feature_scores.nlargest(50,'Score'))  # print 20 best features"
   ]
  },
  {
   "cell_type": "code",
   "execution_count": 150,
   "metadata": {},
   "outputs": [
    {
     "data": {
      "application/javascript": [
       "\n",
       "        if (window._pyforest_update_imports_cell) { window._pyforest_update_imports_cell('import ToolFeatures as tf\\nimport ToolProject as tp\\nimport gc\\nimport sweetviz\\nfrom sklearn.feature_selection import SelectKBest\\nimport pandas as pd\\nimport numpy as np\\nfrom sklearn.feature_selection import f_classif\\nimport warnings'); }\n",
       "    "
      ],
      "text/plain": [
       "<IPython.core.display.Javascript object>"
      ]
     },
     "metadata": {},
     "output_type": "display_data"
    },
    {
     "data": {
      "image/png": "[encoded data removed]",
      "text/plain": [
       "<Figure size 600x400 with 1 Axes>"
      ]
     },
     "metadata": {},
     "output_type": "display_data"
    },
    {
     "data": {
      "text/html": [
       "<div>\n",
       "<style scoped>\n",
       "    .dataframe tbody tr th:only-of-type {\n",
       "        vertical-align: middle;\n",
       "    }\n",
       "\n",
       "    .dataframe tbody tr th {\n",
       "        vertical-align: top;\n",
       "    }\n",
       "\n",
       "    .dataframe thead th {\n",
       "        text-align: right;\n",
       "    }\n",
       "</style>\n",
       "<table border=\"1\" class=\"dataframe\">\n",
       "  <thead>\n",
       "    <tr style=\"text-align: right;\">\n",
       "      <th></th>\n",
       "      <th>Score</th>\n",
       "    </tr>\n",
       "  </thead>\n",
       "  <tbody>\n",
       "    <tr>\n",
       "      <th>count</th>\n",
       "      <td>675.000000</td>\n",
       "    </tr>\n",
       "    <tr>\n",
       "      <th>mean</th>\n",
       "      <td>137.827832</td>\n",
       "    </tr>\n",
       "    <tr>\n",
       "      <th>std</th>\n",
       "      <td>423.976596</td>\n",
       "    </tr>\n",
       "    <tr>\n",
       "      <th>min</th>\n",
       "      <td>0.000002</td>\n",
       "    </tr>\n",
       "    <tr>\n",
       "      <th>5%</th>\n",
       "      <td>0.087818</td>\n",
       "    </tr>\n",
       "    <tr>\n",
       "      <th>10%</th>\n",
       "      <td>0.351276</td>\n",
       "    </tr>\n",
       "    <tr>\n",
       "      <th>20%</th>\n",
       "      <td>1.632392</td>\n",
       "    </tr>\n",
       "    <tr>\n",
       "      <th>25%</th>\n",
       "      <td>2.903971</td>\n",
       "    </tr>\n",
       "    <tr>\n",
       "      <th>50%</th>\n",
       "      <td>19.881060</td>\n",
       "    </tr>\n",
       "    <tr>\n",
       "      <th>60%</th>\n",
       "      <td>42.734358</td>\n",
       "    </tr>\n",
       "    <tr>\n",
       "      <th>75%</th>\n",
       "      <td>120.353878</td>\n",
       "    </tr>\n",
       "    <tr>\n",
       "      <th>80%</th>\n",
       "      <td>169.386058</td>\n",
       "    </tr>\n",
       "    <tr>\n",
       "      <th>90%</th>\n",
       "      <td>343.815074</td>\n",
       "    </tr>\n",
       "    <tr>\n",
       "      <th>max</th>\n",
       "      <td>7978.825300</td>\n",
       "    </tr>\n",
       "  </tbody>\n",
       "</table>\n",
       "</div>"
      ],
      "text/plain": [
       "             Score\n",
       "count   675.000000\n",
       "mean    137.827832\n",
       "std     423.976596\n",
       "min       0.000002\n",
       "5%        0.087818\n",
       "10%       0.351276\n",
       "20%       1.632392\n",
       "25%       2.903971\n",
       "50%      19.881060\n",
       "60%      42.734358\n",
       "75%     120.353878\n",
       "80%     169.386058\n",
       "90%     343.815074\n",
       "max    7978.825300"
      ]
     },
     "execution_count": 150,
     "metadata": {},
     "output_type": "execute_result"
    }
   ],
   "source": [
    "tp.analysis_outliers(feature_scores, [\"Score\"])"
   ]
  },
  {
   "cell_type": "code",
   "execution_count": 152,
   "metadata": {},
   "outputs": [],
   "source": [
    "#seuil = 137\n",
    "seuil = feature_scores[\"Score\"].mean()\n",
    "df_features_to_keep = list(feature_scores[feature_scores[\"Score\"] > seuil][\"Feature_Name\"])"
   ]
  },
  {
   "cell_type": "code",
   "execution_count": 153,
   "metadata": {},
   "outputs": [
    {
     "name": "stdout",
     "output_type": "stream",
     "text": [
      "Training set full shape:  (307511, 151)\n",
      "Testing set full shape:  (48744, 151)\n"
     ]
    }
   ],
   "source": [
    "# Create new datasets with smaller features\n",
    "df_train_model = df_train[df_features_to_keep]\n",
    "df_test_model = df_test[df_features_to_keep]\n",
    "\n",
    "print('Training set full shape: ', df_train_model.shape)\n",
    "print('Testing set full shape: ' , df_test_model.shape)"
   ]
  },
  {
   "cell_type": "code",
   "execution_count": 154,
   "metadata": {},
   "outputs": [],
   "source": [
    "df_train_model['TARGET'] = df_train_labels\n",
    "df_train_model['SK_ID_CURR'] = df_train_keys\n",
    "df_test_model['SK_ID_CURR'] = df_test_keys\n",
    "\n",
    "df_train_model.to_csv('f_train_model.csv', index = False)\n",
    "df_test_model.to_csv('f_test_model.csv', index = False)"
   ]
  },
  {
   "cell_type": "code",
   "execution_count": null,
   "metadata": {},
   "outputs": [],
   "source": []
  }
 ],
 "metadata": {
  "kernelspec": {
   "display_name": "Python 3",
   "language": "python",
   "name": "python3"
  },
  "language_info": {
   "codemirror_mode": {
    "name": "ipython",
    "version": 3
   },
   "file_extension": ".py",
   "mimetype": "text/x-python",
   "name": "python",
   "nbconvert_exporter": "python",
   "pygments_lexer": "ipython3",
   "version": "3.7.4"
  },
  "toc": {
   "base_numbering": 1,
   "nav_menu": {},
   "number_sections": true,
   "sideBar": true,
   "skip_h1_title": false,
   "title_cell": "Table of Contents",
   "title_sidebar": "Contents",
   "toc_cell": true,
   "toc_position": {
    "height": "calc(100% - 180px)",
    "left": "10px",
    "top": "150px",
    "width": "304.475px"
   },
   "toc_section_display": true,
   "toc_window_display": true
  }
 },
 "nbformat": 4,
 "nbformat_minor": 4
}
